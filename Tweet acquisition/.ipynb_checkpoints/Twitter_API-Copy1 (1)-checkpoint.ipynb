{
 "cells": [
  {
   "cell_type": "markdown",
   "metadata": {
    "scrolled": true
   },
   "source": [
    "# Twitter API\n",
    "## Python lib to download tweets"
   ]
  },
  {
   "cell_type": "code",
   "execution_count": null,
   "metadata": {},
   "outputs": [],
   "source": [
    "# UNCOMMENT THIS BLOCK TO INSTALL PYTWEET\n",
    "# Install the twitter API pip package for python\n",
    "\n",
    "\"\"\"\n",
    "import sys\n",
    "!{sys.executable} -m pip install --user --upgrade pip\n",
    "!{sys.executable} -m pip install --user Tweepy\n",
    "!{sys.executable} -m pip install --user pandas\n",
    "\"\"\""
   ]
  },
  {
   "cell_type": "code",
   "execution_count": null,
   "metadata": {},
   "outputs": [],
   "source": [
    "import tweepy\n",
    "import pandas\n",
    "import datetime\n",
    "\n",
    "from datetime import datetime\n",
    "from tweepy import OAuthHandler"
   ]
  },
  {
   "cell_type": "markdown",
   "metadata": {},
   "source": [
    "Documentation:\n",
    "\n",
    "* python twitter lib: https://tweepy.readthedocs.io/en/latest/api.html\n",
    "* My twitter name: Laurens14710667\n",
    "* My app: https://developer.twitter.com/en/apps/16747165"
   ]
  },
  {
   "cell_type": "code",
   "execution_count": null,
   "metadata": {},
   "outputs": [],
   "source": [
    "consumer_key = \"LPSQgtPpSofmSRUlzakEBFGxl\"\n",
    "consumer_secret = \"3dgHEXI8xrnlH83voBj5Q2pyO1QgaWO9jOqsQ6TJeJhLa3DjM0\"\n",
    "\n",
    "auth = tweepy.AppAuthHandler(consumer_key, consumer_secret)\n",
    "api = tweepy.API(auth, wait_on_rate_limit=True, wait_on_rate_limit_notify=True)"
   ]
  },
  {
   "cell_type": "code",
   "execution_count": null,
   "metadata": {},
   "outputs": [],
   "source": [
    "# check if twitter API works\n",
    "\n",
    "\"\"\"\n",
    "user = api.get_user('twitter')\n",
    "\n",
    "print(user.screen_name)\n",
    "print(user.followers_count)\n",
    "for friend in user.friends():\n",
    "    print(friend.screen_name)\n",
    "\"\"\""
   ]
  },
  {
   "cell_type": "code",
   "execution_count": null,
   "metadata": {
    "scrolled": true
   },
   "outputs": [],
   "source": [
    "# search queries\n",
    "\n",
    "key_word = 'demonstratie'\n",
    "\n",
    "#\"\"\"\n",
    "users = []\n",
    "tweets_text = []\n",
    "tweets = []\n",
    "\n",
    "date_str = datetime.now().strftime(\"%y%m%d\")\n",
    "\n",
    "for tweet in tweepy.Cursor(api.search, q=key_word, lang='nl').items():\n",
    "    # print(tweet)\n",
    "    has_tags = tweet.entities[\"hashtags\"]\n",
    "    user_name = tweet.user.screen_name\n",
    "    date_time = tweet.created_at\n",
    "    tweet_text = tweet.text\n",
    "    tweets.append(tweet)\n",
    "    print(\"{0} ({1}) {2} {3}\".format(date_time, user_name, tweet_text, has_tags))\n",
    "    \n",
    "    users.append(user_name)\n",
    "    tweets_text.append(tweet_text)\n",
    "#\"\"\""
   ]
  },
  {
   "cell_type": "code",
   "execution_count": null,
   "metadata": {
    "scrolled": true
   },
   "outputs": [],
   "source": [
    "# Save twitter messages as CSV\n",
    "\n",
    "tweet_dict_list = []\n",
    "\n",
    "def get_attrib_data(obj, attrib_list):\n",
    "    try:\n",
    "        o = getattr(obj, attrib_list[0], None)\n",
    "        if len(attrib_list) > 1:\n",
    "            return get_attrib_data(o, attrib_list[1:])\n",
    "        return o\n",
    "    except AttributeError:\n",
    "        return None\n",
    "\n",
    "for tweet in tweets:\n",
    "    tweet_dict_list.append({\n",
    "        \"created_at\": get_attrib_data(tweet, [\"created_at\"]),\n",
    "        \"tweet_id\": get_attrib_data(tweet, [\"id_str\"]),\n",
    "        \"tweet_text\": get_attrib_data(tweet, [\"text\"]),\n",
    "        \"tweet_hashtags\": get_attrib_data(tweet, [\"entities\"]).get(\"hashtags\"),\n",
    "        \"tweet_iso_language_code\": get_attrib_data(tweet, [\"metadata\"]).get(\"iso_language_code\"),\n",
    "        \"user_id\": get_attrib_data(tweet, [\"user\", \"id_str\"]),\n",
    "        \"user_screen_name\": get_attrib_data(tweet, [\"user\", \"screen_name\"]),\n",
    "        \"user_location\": get_attrib_data(tweet, [\"user\", \"location\"]),\n",
    "        \"tweet_geo\": get_attrib_data(tweet, [\"geo\"]),\n",
    "        \"tweet_coordinates\": get_attrib_data(tweet, [\"coordinates\"]),\n",
    "        \"tweet_place\": get_attrib_data(tweet, [\"place\"]),\n",
    "        \"tweet_lang\": get_attrib_data(tweet, [\"lang\"]),\n",
    "        \"retweet_count\": get_attrib_data(tweet, [\"retweet_count\"]),\n",
    "        \"favorite_count\": get_attrib_data(tweet, [\"favorite_count\"]),\n",
    "        \"possibly_sensitive\": get_attrib_data(tweet, [\"retweeted_status\", \"possibly_sensitive\"]),\n",
    "        \"org_tweet_created_at\": get_attrib_data(tweet, [\"retweeted_status\", \"created_at\"]),\n",
    "        \"org_tweet_user\": get_attrib_data(tweet, [\"retweeted_status\", \"user\", \"id_str\"]),\n",
    "    })\n",
    "\n",
    "tweets_df = pandas.DataFrame(tweet_dict_list)\n",
    "tweets_df.to_csv(date_str + '_tweets_' + key_word + '.csv')\n",
    "\n",
    "tweets_df = pandas.read_csv(date_str + '_tweets_' + key_word + '.csv', index_col=0)\n",
    "tweets_df"
   ]
  }
 ],
 "metadata": {
  "kernelspec": {
   "display_name": "Python 3",
   "language": "python",
   "name": "python3"
  },
  "language_info": {
   "codemirror_mode": {
    "name": "ipython",
    "version": 3
   },
   "file_extension": ".py",
   "mimetype": "text/x-python",
   "name": "python",
   "nbconvert_exporter": "python",
   "pygments_lexer": "ipython3",
   "version": "3.8.3"
  }
 },
 "nbformat": 4,
 "nbformat_minor": 2
}
