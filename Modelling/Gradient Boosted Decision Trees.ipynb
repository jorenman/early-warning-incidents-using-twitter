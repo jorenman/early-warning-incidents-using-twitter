{
 "cells": [
  {
   "cell_type": "code",
   "execution_count": 23,
   "metadata": {},
   "outputs": [],
   "source": [
    "import pandas as pd\n",
    "import numpy as np\n",
    "from sklearn import metrics\n",
    "from sklearn.feature_extraction.text import TfidfVectorizer\n",
    "from sklearn.ensemble import GradientBoostingClassifier\n",
    "from sklearn.model_selection import KFold, cross_validate, GridSearchCV\n",
    "import pickle\n",
    "from sklearn.metrics import confusion_matrix, classification_report, roc_curve, roc_auc_score\n",
    "import matplotlib.pyplot as plt"
   ]
  },
  {
   "cell_type": "markdown",
   "metadata": {},
   "source": [
    "# Import data and set variables"
   ]
  },
  {
   "cell_type": "code",
   "execution_count": 6,
   "metadata": {},
   "outputs": [],
   "source": [
    "# Import data\n",
    "train = pd.read_pickle('~/Documents/Github Repository/early-warning-twitter/Processed datasets/Model data/Train.pkl')\n",
    "\n",
    "# Split up in X and y columns\n",
    "X_train = train.loc[:, train.columns != 'has_Incident_Related']\n",
    "y_train = train[['has_Incident_Related']]\n",
    "\n",
    "# Variable with the text of a tweet without hashtags \n",
    "X_train_text_no_hashtag = X_train.loc[:, 'preprocessed_text_no_hashtag']\n",
    "\n",
    "# Variable with the text of a tweet with hashtags as normal text\n",
    "X_train_text = X_train.loc[:, 'preprocessed_text']\n",
    "\n",
    "# Response variable, whether the tweet is related to an incident (0 or 1)\n",
    "y_train = y_train.loc[:, 'has_Incident_Related'].astype('int')"
   ]
  },
  {
   "cell_type": "markdown",
   "metadata": {},
   "source": [
    "# Convert text data into tf-idf"
   ]
  },
  {
   "cell_type": "code",
   "execution_count": 7,
   "metadata": {},
   "outputs": [],
   "source": [
    "# Convert X_train_text_no_hashtag into tf-idf vectorized matrix\n",
    "vc_text_no_hashtag = TfidfVectorizer().fit(X_train_text_no_hashtag)\n",
    "X_train_text_no_hashtag_df = pd.DataFrame(vc_text_no_hashtag.transform(X_train_text_no_hashtag).todense(), columns=vc_text_no_hashtag.get_feature_names())\n",
    "\n",
    "# Convert X_train_text into tf-idf vectorized matrix\n",
    "vc_text = TfidfVectorizer().fit(X_train_text)\n",
    "X_train_text_df = pd.DataFrame(vc_text.transform(X_train_text).todense(), columns=vc_text.get_feature_names())"
   ]
  },
  {
   "cell_type": "code",
   "execution_count": 5,
   "metadata": {},
   "outputs": [],
   "source": [
    "# Reset index for all variables\n",
    "X_train_text_no_hashtag_df.reset_index(inplace=True, drop=True)\n",
    "X_train_text_df.reset_index(inplace=True, drop=True)"
   ]
  },
  {
   "cell_type": "code",
   "execution_count": null,
   "metadata": {},
   "outputs": [
    {
     "name": "stdout",
     "output_type": "stream",
     "text": [
      "Fitting 3 folds for each of 180 candidates, totalling 540 fits\n"
     ]
    }
   ],
   "source": [
    "parameters = {\n",
    "    'loss':['deviance', 'exponential'],\n",
    "    'learning_rate':[0.05, 0.1, 0.25, 0.5, 1],\n",
    "    'n_estimators': [50,100,200],\n",
    "    'criterion':['friedman_mse', 'mse'],\n",
    "    'max_depth':[3,6,9]\n",
    "}\n",
    "\n",
    "def get_best_parameters(parameters, train, test, file):\n",
    "    clf = GridSearchCV(\n",
    "        GradientBoostingClassifier(), parameters, cv=3, scoring='f1', n_jobs=8, verbose=True\n",
    "    )\n",
    "    clf.fit(train, test)\n",
    "    print(clf.best_score_)\n",
    "    print(clf.best_params_)\n",
    "    file.write(f\"Best Score is {clf.best_score_} and the best params are {clf.best_params_}\")\n",
    "\n",
    "file1 = open(\"GradientBoosted1.txt\",\"a\")\n",
    "get_best_parameters(parameters, X_train_text_no_hashtag_df, y_train, file1)\n",
    "file1.close()"
   ]
  },
  {
   "cell_type": "code",
   "execution_count": null,
   "metadata": {},
   "outputs": [],
   "source": [
    "file2 = open(\"GradientBoosted2.txt\",\"a\")\n",
    "get_best_parameters(parameters, X_train_text_df, y_train, file2)\n",
    "file2.close()"
   ]
  },
  {
   "cell_type": "code",
   "execution_count": 17,
   "metadata": {
    "scrolled": true
   },
   "outputs": [
    {
     "name": "stderr",
     "output_type": "stream",
     "text": [
      "[Parallel(n_jobs=8)]: Using backend LokyBackend with 8 concurrent workers.\n",
      "[Parallel(n_jobs=8)]: Done   6 out of  10 | elapsed: 12.8min remaining:  8.5min\n"
     ]
    },
    {
     "name": "stdout",
     "output_type": "stream",
     "text": [
      "Model trained on text of the tweet without hashtag\n",
      "Train score:  0.9973777256822813\n",
      "Test score:  0.8779615140583287\n",
      "-----------------------------\n"
     ]
    },
    {
     "name": "stderr",
     "output_type": "stream",
     "text": [
      "[Parallel(n_jobs=8)]: Done  10 out of  10 | elapsed: 25.1min finished\n",
      "[Parallel(n_jobs=8)]: Using backend LokyBackend with 8 concurrent workers.\n",
      "[Parallel(n_jobs=8)]: Done   6 out of  10 | elapsed: 19.8min remaining: 13.2min\n",
      "[Parallel(n_jobs=8)]: Done  10 out of  10 | elapsed: 37.9min finished\n"
     ]
    }
   ],
   "source": [
    "k_fold = KFold(n_splits=10, shuffle=True, random_state=0)\n",
    "clf_gb1 = GradientBoostingClassifier(criterion='friedman_mse', learning_rate=0.5, loss='exponential', max_depth=6, n_estimators=200)\n",
    "scores1 = cross_validate(clf_gb1, X_train_text_no_hashtag_df, y_train, cv=k_fold, scoring='f1', return_train_score=True, n_jobs=8, verbose=1)\n",
    "\n",
    "file1 = open(\"GradientBoosted1.txt\",\"a\")\n",
    "file1.write(\"Model trained on text of the tweet without hashtag\")\n",
    "file1.write(f\"Train score: {scores1['train_score'].mean()}\")\n",
    "file1.write(f\"Test score: {scores1['test_score'].mean()}\")\n",
    "file1.close()\n",
    "\n",
    "print(\"Model trained on text of the tweet without hashtag\")\n",
    "print(\"Train score: \", scores1['train_score'].mean())\n",
    "print(\"Test score: \", scores1['test_score'].mean())\n",
    "print(\"-----------------------------\")\n",
    "\n",
    "clf_gb2 = GradientBoostingClassifier(criterion='friedman_mse', learning_rate=0.5, loss='exponential', max_depth=9, n_estimators=200)\n",
    "scores2 = cross_validate(clf_gb2, X_train_text_df, y_train, cv=k_fold, scoring='f1', return_train_score=True, n_jobs=8, verbose=1)\n",
    "\n",
    "file2 = open(\"GradientBoosted2.txt\",\"a\")\n",
    "file2.write(\"Model trained on text of the tweet with hashtag\")\n",
    "file2.write(f\"Train score: {scores1['train_score'].mean()}\")\n",
    "file2.write(f\"Test score: {scores1['test_score'].mean()}\")\n",
    "file2.close()"
   ]
  },
  {
   "cell_type": "code",
   "execution_count": 18,
   "metadata": {},
   "outputs": [
    {
     "data": {
      "text/plain": [
       "GradientBoostingClassifier(learning_rate=0.5, loss='exponential', max_depth=9,\n",
       "                           n_estimators=200)"
      ]
     },
     "execution_count": 18,
     "metadata": {},
     "output_type": "execute_result"
    }
   ],
   "source": [
    "clf_gb1.fit(X_train_text_no_hashtag_df, y_train)\n",
    "clf_gb2.fit(X_train_text_df, y_train)"
   ]
  },
  {
   "cell_type": "code",
   "execution_count": 22,
   "metadata": {},
   "outputs": [],
   "source": [
    "# Save models\n",
    "pickle.dump(clf_gb1, open('Models/gradient-boosted-1.sav', 'wb'))\n",
    "pickle.dump(clf_gb2, open('Models/gradient-boosted-2.sav', 'wb'))"
   ]
  },
  {
   "cell_type": "code",
   "execution_count": 2,
   "metadata": {},
   "outputs": [
    {
     "name": "stderr",
     "output_type": "stream",
     "text": [
      "/opt/anaconda3/lib/python3.8/site-packages/sklearn/base.py:329: UserWarning: Trying to unpickle estimator DummyClassifier from version 0.24.2 when using version 0.23.1. This might lead to breaking code or invalid results. Use at your own risk.\n",
      "  warnings.warn(\n",
      "/opt/anaconda3/lib/python3.8/site-packages/sklearn/base.py:329: UserWarning: Trying to unpickle estimator DecisionTreeRegressor from version 0.24.2 when using version 0.23.1. This might lead to breaking code or invalid results. Use at your own risk.\n",
      "  warnings.warn(\n",
      "/opt/anaconda3/lib/python3.8/site-packages/sklearn/base.py:329: UserWarning: Trying to unpickle estimator GradientBoostingClassifier from version 0.24.2 when using version 0.23.1. This might lead to breaking code or invalid results. Use at your own risk.\n",
      "  warnings.warn(\n"
     ]
    }
   ],
   "source": [
    "# Load models\n",
    "clf_gb1 = pickle.load(open('Models/gradient-boosted-1.sav', 'rb'))\n",
    "clf_gb2 = pickle.load(open('Models/gradient-boosted-2.sav', 'rb'))"
   ]
  },
  {
   "cell_type": "code",
   "execution_count": 7,
   "metadata": {},
   "outputs": [],
   "source": [
    "# Import the Test data\n",
    "test = pd.read_pickle('~/Documents/Github Repository/early-warning-twitter/Processed datasets/Model data/Test.pkl')\n",
    "\n",
    "X_test = test.loc[:, test.columns != 'has_Incident_Related']\n",
    "y_test = test[['has_Incident_Related']]\n",
    "\n",
    "# Variable with the text of a tweet without hashtags \n",
    "X_test_text_no_hashtag = X_test.loc[:, 'preprocessed_text_no_hashtag']\n",
    "\n",
    "# Variable with the text of a tweet with hashtags as normal text\n",
    "X_test_text = X_test.loc[:, 'preprocessed_text']\n",
    "\n",
    "# Response variable, whether the tweet is related to an incident (0 or 1)\n",
    "y_test = y_test.loc[:, 'has_Incident_Related'].astype('int')"
   ]
  },
  {
   "cell_type": "code",
   "execution_count": 8,
   "metadata": {},
   "outputs": [],
   "source": [
    "# Convert X_test_text_no_hashtag into tf-idf vectorized matrix\n",
    "X_test_text_no_hashtag_df = pd.DataFrame(vc_text_no_hashtag.transform(X_test_text_no_hashtag).todense(), columns=vc_text_no_hashtag.get_feature_names())\n",
    "\n",
    "# Convert X_test_text into tf-idf vectorized matrix\n",
    "X_test_text_df = pd.DataFrame(vc_text.transform(X_test_text).todense(), columns=vc_text.get_feature_names())\n",
    "\n",
    "# Reset index for all variables\n",
    "X_test_text_no_hashtag_df.reset_index(inplace=True, drop=True)\n",
    "X_test_text_df.reset_index(inplace=True, drop=True)"
   ]
  },
  {
   "cell_type": "code",
   "execution_count": 9,
   "metadata": {},
   "outputs": [],
   "source": [
    "def predict_data(model, test_data, test_y):\n",
    "    # predict the new document from the testing dataset\n",
    "    y_pred = model.predict(test_data)\n",
    "\n",
    "    # Predict the probabilities for the testing dataset (necessary for AUC)\n",
    "    y_pred_prob = model.predict_proba(test_data)\n",
    "\n",
    "    # compute the performance measures\n",
    "    score1 = metrics.accuracy_score(test_y, y_pred)\n",
    "    print(\"accuracy:   %0.3f\" % score1)\n",
    "\n",
    "    print(metrics.classification_report(test_y, y_pred,\n",
    "                                                target_names=['Negative', 'Positive'], digits=3))\n",
    "\n",
    "    print(\"confusion matrix:\")\n",
    "    print(metrics.confusion_matrix(test_y, y_pred))\n",
    "\n",
    "    print('------------------------------')\n",
    "\n",
    "    # Only keep probabilities for the positive outcome only\n",
    "    y_pred_prob = y_pred_prob[:, 1]\n",
    "\n",
    "    gb_auc = roc_auc_score(test_y, y_pred_prob)\n",
    "    print('Gradient Boosted Decision Trees: ROC AUC=%.3f' % (gb_auc))\n",
    "    nb_fpr, nb_tpr, _ = roc_curve(test_y, y_pred_prob)\n",
    "    plt.plot(nb_fpr, nb_tpr, marker='.', label='Gradient Boosted Decision Trees')\n",
    "    # axis labels\n",
    "    plt.xlabel('False Positive Rate')\n",
    "    plt.ylabel('True Positive Rate')\n",
    "    # show the legend\n",
    "    plt.legend()\n",
    "    # show the plot\n",
    "    plt.show()\n",
    "    print(\"-------------------------------------\")"
   ]
  },
  {
   "cell_type": "code",
   "execution_count": 10,
   "metadata": {},
   "outputs": [
    {
     "name": "stdout",
     "output_type": "stream",
     "text": [
      "accuracy:   0.936\n",
      "              precision    recall  f1-score   support\n",
      "\n",
      "    Negative      0.957     0.956     0.956      1014\n",
      "    Positive      0.883     0.885     0.884       382\n",
      "\n",
      "    accuracy                          0.936      1396\n",
      "   macro avg      0.920     0.920     0.920      1396\n",
      "weighted avg      0.936     0.936     0.936      1396\n",
      "\n",
      "confusion matrix:\n",
      "[[969  45]\n",
      " [ 44 338]]\n",
      "------------------------------\n",
      "Gradient Boosted Decision Trees: ROC AUC=0.966\n"
     ]
    },
    {
     "data": {
      "image/png": "[encoded data removed]",
      "text/plain": [
       "<Figure size 432x288 with 1 Axes>"
      ]
     },
     "metadata": {
      "needs_background": "light"
     },
     "output_type": "display_data"
    },
    {
     "name": "stdout",
     "output_type": "stream",
     "text": [
      "-------------------------------------\n",
      "accuracy:   0.931\n",
      "              precision    recall  f1-score   support\n",
      "\n",
      "    Negative      0.949     0.956     0.952      1014\n",
      "    Positive      0.880     0.864     0.872       382\n",
      "\n",
      "    accuracy                          0.931      1396\n",
      "   macro avg      0.915     0.910     0.912      1396\n",
      "weighted avg      0.930     0.931     0.930      1396\n",
      "\n",
      "confusion matrix:\n",
      "[[969  45]\n",
      " [ 52 330]]\n",
      "------------------------------\n",
      "Gradient Boosted Decision Trees: ROC AUC=0.964\n"
     ]
    },
    {
     "data": {
      "image/png": "[encoded data removed]",
      "text/plain": [
       "<Figure size 432x288 with 1 Axes>"
      ]
     },
     "metadata": {
      "needs_background": "light"
     },
     "output_type": "display_data"
    },
    {
     "name": "stdout",
     "output_type": "stream",
     "text": [
      "-------------------------------------\n"
     ]
    }
   ],
   "source": [
    "predict_data(clf_gb1, X_test_text_no_hashtag_df, y_test)\n",
    "predict_data(clf_gb2, X_test_text_df, y_test)"
   ]
  },
  {
   "cell_type": "markdown",
   "metadata": {},
   "source": [
    "# Get feature importance of words\n",
    "Here, we get the feature importance of words for the best performing model in terms of the highest score of the F-measure on the test data"
   ]
  },
  {
   "cell_type": "code",
   "execution_count": 24,
   "metadata": {},
   "outputs": [
    {
     "data": {
      "text/html": [
       "<div>\n",
       "<style scoped>\n",
       "    .dataframe tbody tr th:only-of-type {\n",
       "        vertical-align: middle;\n",
       "    }\n",
       "\n",
       "    .dataframe tbody tr th {\n",
       "        vertical-align: top;\n",
       "    }\n",
       "\n",
       "    .dataframe thead th {\n",
       "        text-align: right;\n",
       "    }\n",
       "</style>\n",
       "<table border=\"1\" class=\"dataframe\">\n",
       "  <thead>\n",
       "    <tr style=\"text-align: right;\">\n",
       "      <th></th>\n",
       "      <th>Feature</th>\n",
       "      <th>Importance</th>\n",
       "    </tr>\n",
       "  </thead>\n",
       "  <tbody>\n",
       "    <tr>\n",
       "      <th>8164</th>\n",
       "      <td>telegraaf</td>\n",
       "      <td>0.094815</td>\n",
       "    </tr>\n",
       "    <tr>\n",
       "      <th>1867</th>\n",
       "      <td>dam</td>\n",
       "      <td>0.050607</td>\n",
       "    </tr>\n",
       "    <tr>\n",
       "      <th>713</th>\n",
       "      <td>at5</td>\n",
       "      <td>0.045954</td>\n",
       "    </tr>\n",
       "    <tr>\n",
       "      <th>1956</th>\n",
       "      <td>demonstratie</td>\n",
       "      <td>0.041917</td>\n",
       "    </tr>\n",
       "    <tr>\n",
       "      <th>2344</th>\n",
       "      <td>duizenden</td>\n",
       "      <td>0.025430</td>\n",
       "    </tr>\n",
       "    <tr>\n",
       "      <th>410</th>\n",
       "      <td>afstand</td>\n",
       "      <td>0.012226</td>\n",
       "    </tr>\n",
       "    <tr>\n",
       "      <th>1509</th>\n",
       "      <td>burgemeester</td>\n",
       "      <td>0.009095</td>\n",
       "    </tr>\n",
       "    <tr>\n",
       "      <th>2997</th>\n",
       "      <td>gegooid</td>\n",
       "      <td>0.008810</td>\n",
       "    </tr>\n",
       "    <tr>\n",
       "      <th>8581</th>\n",
       "      <td>uitgedeeld</td>\n",
       "      <td>0.008296</td>\n",
       "    </tr>\n",
       "    <tr>\n",
       "      <th>229</th>\n",
       "      <td>aanwezig</td>\n",
       "      <td>0.008115</td>\n",
       "    </tr>\n",
       "  </tbody>\n",
       "</table>\n",
       "</div>"
      ],
      "text/plain": [
       "           Feature  Importance\n",
       "8164     telegraaf    0.094815\n",
       "1867           dam    0.050607\n",
       "713            at5    0.045954\n",
       "1956  demonstratie    0.041917\n",
       "2344     duizenden    0.025430\n",
       "410        afstand    0.012226\n",
       "1509  burgemeester    0.009095\n",
       "2997       gegooid    0.008810\n",
       "8581    uitgedeeld    0.008296\n",
       "229       aanwezig    0.008115"
      ]
     },
     "execution_count": 24,
     "metadata": {},
     "output_type": "execute_result"
    }
   ],
   "source": [
    "feature_importance = pd.DataFrame({\"Feature\":np.array(X_train_text_no_hashtag_df.columns), \"Importance\":clf_gb1.feature_importances_}).sort_values('Importance', ascending=False).head(10)\n",
    "feature_importance"
   ]
  }
 ],
 "metadata": {
  "environment": {
   "name": "common-cpu.m71",
   "type": "gcloud",
   "uri": "gcr.io/deeplearning-platform-release/base-cpu:m71"
  },
  "kernelspec": {
   "display_name": "Python 3",
   "language": "python",
   "name": "python3"
  },
  "language_info": {
   "codemirror_mode": {
    "name": "ipython",
    "version": 3
   },
   "file_extension": ".py",
   "mimetype": "text/x-python",
   "name": "python",
   "nbconvert_exporter": "python",
   "pygments_lexer": "ipython3",
   "version": "3.8.3"
  }
 },
 "nbformat": 4,
 "nbformat_minor": 4
}
