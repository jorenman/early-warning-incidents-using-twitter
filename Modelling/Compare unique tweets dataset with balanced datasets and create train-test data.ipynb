{
 "cells": [
  {
   "cell_type": "markdown",
   "metadata": {},
   "source": [
    "# Compare unique tweets dataset with balanced datasets\n",
    "The goal of this Jupyter Notebook is to compare the unique tweets dataset with two more balanced datasets in terms of performance.\n",
    "\n",
    "If it shows that the balanced dataset performs better on unseen data in terms of F1-score, we will use this dataset to train our machine learning models.\n",
    "\n",
    "This comparison will only be performed on the preprocessed_text variable.\n",
    "\n",
    "In total, we compare 3 dataset:\n",
    "- Unique tweets, this is the unbalanced dataset \n",
    "- Unique tweets with backtranslated tweets\n",
    "- Unique tweets with backtranslated tweets and where each tweet synonym replacement has been performed"
   ]
  },
  {
   "cell_type": "code",
   "execution_count": 2,
   "metadata": {},
   "outputs": [],
   "source": [
    "from sklearn.model_selection import train_test_split\n",
    "import pandas as pd\n",
    "from sklearn.feature_extraction.text import TfidfVectorizer\n",
    "from sklearn import metrics\n",
    "from sklearn.naive_bayes import MultinomialNB\n",
    "from sklearn.model_selection import KFold, cross_validate, train_test_split\n",
    "from sklearn.metrics import roc_curve, roc_auc_score\n",
    "import matplotlib.pyplot as plt"
   ]
  },
  {
   "cell_type": "code",
   "execution_count": 12,
   "metadata": {},
   "outputs": [],
   "source": [
    "def create_models(dfs):\n",
    "    i = 1\n",
    "    \n",
    "    for data in dfs:\n",
    "        # Create two variables for right columns\n",
    "        X = data[[\"preprocessed_text\"]]\n",
    "        y = data[[\"has_Incident_Related\"]]\n",
    "\n",
    "        # Train test split (train - 80%) (test-20%)\n",
    "        train_X, test_X, train_y, test_y = train_test_split(X, y, test_size=0.2, random_state=42, stratify=y)\n",
    "\n",
    "        # Set variables to arrays\n",
    "        train_X = train_X.loc[:, 'preprocessed_text']\n",
    "        test_X = test_X.loc[:, 'preprocessed_text']\n",
    "        train_y = train_y.loc[:, 'has_Incident_Related'].astype('int')\n",
    "        test_y = test_y.loc[:, 'has_Incident_Related'].astype('int')\n",
    "        \n",
    "        # Convert training data into tf-idf-vectorized matrix\n",
    "        tf_idf_vectorizer = TfidfVectorizer() # or term frequency\n",
    "        X_train_idf = tf_idf_vectorizer.fit_transform(train_X)\n",
    "\n",
    "        # Convert test data into tf-vectorized matrix\n",
    "        X_test_idf = tf_idf_vectorizer.transform(test_X)\n",
    "        \n",
    "        clf_nb = MultinomialNB()\n",
    "        \n",
    "        #Train the model using the training set\n",
    "        clf_nb.fit(X_train_idf, train_y)\n",
    "\n",
    "        # predict the new document from the testing dataset\n",
    "        y_pred = clf_nb.predict(X_test_idf)\n",
    "\n",
    "        # Predict the probabilities for the testing dataset (necessary for AUC)\n",
    "        y_pred_prob = clf_nb.predict_proba(X_test_idf)\n",
    "\n",
    "        # compute the performance measures\n",
    "        score1 = metrics.accuracy_score(test_y, y_pred)\n",
    "        print(\"accuracy:   %0.3f\" % score1)\n",
    "\n",
    "        print(metrics.classification_report(test_y, y_pred, target_names=['Not Incident-Related', 'Incident-Related'], digits=3))\n",
    "\n",
    "        print(\"confusion matrix:\")\n",
    "        print(metrics.confusion_matrix(test_y, y_pred))\n",
    "\n",
    "        print('------------------------------')\n",
    "\n",
    "        # Only keep probabilities for the positive outcome only\n",
    "        y_pred_prob = y_pred_prob[:, 1]\n",
    "\n",
    "        nb_auc = roc_auc_score(test_y, y_pred_prob)\n",
    "        print('Naive Bayes: ROC AUC=%.3f' % (nb_auc))\n",
    "        nb_fpr, nb_tpr, _ = roc_curve(test_y, y_pred_prob)\n",
    "        plt.plot(nb_fpr, nb_tpr, marker='.', label='Naive Bayes')\n",
    "        # axis labels\n",
    "        plt.xlabel('False Positive Rate')\n",
    "        plt.ylabel('True Positive Rate')\n",
    "        plt.savefig(f\"Plots/compare-roc-curve-model-{i}.png\")\n",
    "        # show the legend\n",
    "        plt.legend()\n",
    "        # show the plot\n",
    "        plt.show()\n",
    "        \n",
    "        i = i+1"
   ]
  },
  {
   "cell_type": "code",
   "execution_count": 13,
   "metadata": {},
   "outputs": [
    {
     "name": "stdout",
     "output_type": "stream",
     "text": [
      "accuracy:   0.914\n",
      "                      precision    recall  f1-score   support\n",
      "\n",
      "Not Incident-Related      0.915     0.999     0.955      1014\n",
      "    Incident-Related      0.667     0.021     0.040        96\n",
      "\n",
      "            accuracy                          0.914      1110\n",
      "           macro avg      0.791     0.510     0.498      1110\n",
      "        weighted avg      0.894     0.914     0.876      1110\n",
      "\n",
      "confusion matrix:\n",
      "[[1013    1]\n",
      " [  94    2]]\n",
      "------------------------------\n",
      "Naive Bayes: ROC AUC=0.718\n"
     ]
    },
    {
     "data": {
      "image/png": "[encoded data removed]",
      "text/plain": [
       "<Figure size 432x288 with 1 Axes>"
      ]
     },
     "metadata": {
      "needs_background": "light"
     },
     "output_type": "display_data"
    },
    {
     "name": "stdout",
     "output_type": "stream",
     "text": [
      "accuracy:   0.844\n",
      "                      precision    recall  f1-score   support\n",
      "\n",
      "Not Incident-Related      0.844     0.981     0.907      1014\n",
      "    Incident-Related      0.843     0.357     0.501       286\n",
      "\n",
      "            accuracy                          0.844      1300\n",
      "           macro avg      0.843     0.669     0.704      1300\n",
      "        weighted avg      0.844     0.844     0.818      1300\n",
      "\n",
      "confusion matrix:\n",
      "[[995  19]\n",
      " [184 102]]\n",
      "------------------------------\n",
      "Naive Bayes: ROC AUC=0.911\n"
     ]
    },
    {
     "data": {
      "image/png": "[encoded data removed]",
      "text/plain": [
       "<Figure size 432x288 with 1 Axes>"
      ]
     },
     "metadata": {
      "needs_background": "light"
     },
     "output_type": "display_data"
    },
    {
     "name": "stdout",
     "output_type": "stream",
     "text": [
      "accuracy:   0.857\n",
      "                      precision    recall  f1-score   support\n",
      "\n",
      "Not Incident-Related      0.850     0.976     0.909      1014\n",
      "    Incident-Related      0.896     0.542     0.675       382\n",
      "\n",
      "            accuracy                          0.857      1396\n",
      "           macro avg      0.873     0.759     0.792      1396\n",
      "        weighted avg      0.862     0.857     0.845      1396\n",
      "\n",
      "confusion matrix:\n",
      "[[990  24]\n",
      " [175 207]]\n",
      "------------------------------\n",
      "Naive Bayes: ROC AUC=0.933\n"
     ]
    },
    {
     "data": {
      "image/png": "[encoded data removed]",
      "text/plain": [
       "<Figure size 432x288 with 1 Axes>"
      ]
     },
     "metadata": {
      "needs_background": "light"
     },
     "output_type": "display_data"
    }
   ],
   "source": [
    "data = pd.read_pickle(\"~/Documents/Github Repository/early-warning-twitter/Processed datasets/Tweets/01-06-2020-unique-tweets-amsterdam-demonstration.pkl\")\n",
    "balanced_data = pd.read_pickle(\"~/Documents/Github Repository/early-warning-twitter/Processed datasets/Tweets/01-06-2020-unique-tweets-amsterdam-demonstration-balanced.pkl\")\n",
    "balanced_data_2 = pd.read_pickle(\"~/Documents/Github Repository/early-warning-twitter/Processed datasets/Tweets/01-06-2020-unique-tweets-amsterdam-demonstration-balanced-2.pkl\")\n",
    "\n",
    "dfs = [data, balanced_data, balanced_data_2]\n",
    "\n",
    "create_models(dfs)"
   ]
  },
  {
   "cell_type": "markdown",
   "metadata": {},
   "source": [
    "# Conclusion\n",
    "This analysis shows that the second balanced dataset performs better on unseen data than the other two datasets.\n",
    "\n",
    "Therefore, this dataset will be used for creating the machine learning models."
   ]
  },
  {
   "cell_type": "markdown",
   "metadata": {},
   "source": [
    "# Create Train and Test Datasets"
   ]
  },
  {
   "cell_type": "code",
   "execution_count": 20,
   "metadata": {},
   "outputs": [
    {
     "name": "stderr",
     "output_type": "stream",
     "text": [
      "<ipython-input-20-e5d7b32f3541>:13: SettingWithCopyWarning: \n",
      "A value is trying to be set on a copy of a slice from a DataFrame.\n",
      "Try using .loc[row_indexer,col_indexer] = value instead\n",
      "\n",
      "See the caveats in the documentation: https://pandas.pydata.org/pandas-docs/stable/user_guide/indexing.html#returning-a-view-versus-a-copy\n",
      "  train[\"has_Incident_Related\"] = y_train[\"has_Incident_Related\"]\n",
      "<ipython-input-20-e5d7b32f3541>:17: SettingWithCopyWarning: \n",
      "A value is trying to be set on a copy of a slice from a DataFrame.\n",
      "Try using .loc[row_indexer,col_indexer] = value instead\n",
      "\n",
      "See the caveats in the documentation: https://pandas.pydata.org/pandas-docs/stable/user_guide/indexing.html#returning-a-view-versus-a-copy\n",
      "  test[\"has_Incident_Related\"] = y_test[\"has_Incident_Related\"]\n"
     ]
    }
   ],
   "source": [
    "balanced_data_2 = pd.read_pickle(\"~/Documents/Github Repository/early-warning-twitter/Processed datasets/Tweets/01-06-2020-unique-tweets-amsterdam-demonstration-balanced-2.pkl\")\n",
    "data = balanced_data_2\n",
    "\n",
    "# Create X and Y variables\n",
    "X = data.loc[:, data.columns != 'has_Incident_Related']\n",
    "y = data[['has_Incident_Related']]\n",
    "\n",
    "# Make stratified split with 80% train and 20% test\n",
    "X_train, X_test, y_train, y_test = train_test_split(X, y, test_size=0.2, random_state=1, stratify=y)\n",
    "\n",
    "# Make one train dataset\n",
    "train = X_train\n",
    "train[\"has_Incident_Related\"] = y_train[\"has_Incident_Related\"]\n",
    "\n",
    "# Make one test dataset\n",
    "test = X_test\n",
    "test[\"has_Incident_Related\"] = y_test[\"has_Incident_Related\"]"
   ]
  },
  {
   "cell_type": "code",
   "execution_count": 21,
   "metadata": {},
   "outputs": [],
   "source": [
    "# Export the datasets\n",
    "train.to_pickle(\"~/Documents/Github Repository/early-warning-twitter/Processed datasets/Model data/Train.pkl\")\n",
    "train.to_csv(\"~/Documents/Github Repository/early-warning-twitter/Processed datasets/Model data/Train.csv\")\n",
    "\n",
    "test.to_pickle(\"~/Documents/Github Repository/early-warning-twitter/Processed datasets/Model data/Test.pkl\")\n",
    "test.to_csv(\"~/Documents/Github Repository/early-warning-twitter/Processed datasets/Model data/Test.csv\")"
   ]
  }
 ],
 "metadata": {
  "kernelspec": {
   "display_name": "Python 3",
   "language": "python",
   "name": "python3"
  },
  "language_info": {
   "codemirror_mode": {
    "name": "ipython",
    "version": 3
   },
   "file_extension": ".py",
   "mimetype": "text/x-python",
   "name": "python",
   "nbconvert_exporter": "python",
   "pygments_lexer": "ipython3",
   "version": "3.8.3"
  }
 },
 "nbformat": 4,
 "nbformat_minor": 4
}
