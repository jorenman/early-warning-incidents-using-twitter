{
 "cells": [
  {
   "cell_type": "code",
   "execution_count": 1,
   "metadata": {},
   "outputs": [],
   "source": [
    "import pandas as pd\n",
    "from sklearn import metrics\n",
    "from sklearn.model_selection import KFold, cross_validate, GridSearchCV\n",
    "import pickle\n",
    "import numpy as np\n",
    "from numpy import save, load\n",
    "from gensim.models.fasttext import load_facebook_model\n",
    "import keras\n",
    "from keras.models import Sequential\n",
    "from keras.layers import Dense, Dropout, Conv2D, Flatten, MaxPooling2D, Reshape, Input\n",
    "import pickle\n",
    "from keras.optimizers import Adam\n",
    "import csv\n",
    "from sklearn.metrics import confusion_matrix, classification_report, roc_curve, roc_auc_score\n",
    "from keras.callbacks import ModelCheckpoint\n",
    "from keras import backend as K\n",
    "import matplotlib.pyplot as plt"
   ]
  },
  {
   "cell_type": "code",
   "execution_count": 2,
   "metadata": {},
   "outputs": [],
   "source": [
    "def recall_m(y_true, y_pred):\n",
    "    true_positives = K.sum(K.round(K.clip(y_true * y_pred, 0, 1)))\n",
    "    possible_positives = K.sum(K.round(K.clip(y_true, 0, 1)))\n",
    "    recall = true_positives / (possible_positives + K.epsilon())\n",
    "    return recall\n",
    "\n",
    "def precision_m(y_true, y_pred):\n",
    "    true_positives = K.sum(K.round(K.clip(y_true * y_pred, 0, 1)))\n",
    "    predicted_positives = K.sum(K.round(K.clip(y_pred, 0, 1)))\n",
    "    precision = true_positives / (predicted_positives + K.epsilon())\n",
    "    return precision\n",
    "\n",
    "def f1_m(y_true, y_pred):\n",
    "    precision = precision_m(y_true, y_pred)\n",
    "    recall = recall_m(y_true, y_pred)\n",
    "    return 2*((precision*recall)/(precision+recall+K.epsilon()))"
   ]
  },
  {
   "cell_type": "markdown",
   "metadata": {},
   "source": [
    "# Import data and set variables"
   ]
  },
  {
   "cell_type": "code",
   "execution_count": 12,
   "metadata": {},
   "outputs": [],
   "source": [
    "# Import data\n",
    "train = pd.read_pickle('~/Documents/Github Repository/early-warning-twitter/Processed datasets/Model data/Train.pkl')\n",
    "\n",
    "# Split up in X and y columns\n",
    "X_train = train.loc[:, train.columns != 'has_Incident_Related']\n",
    "y_train = train[['has_Incident_Related']]\n",
    "\n",
    "# Variable with the text of a tweet without hashtags \n",
    "X_train_text_no_hashtag = X_train.loc[:, 'preprocessed_text_tokenized_no_hashtag']\n",
    "\n",
    "# Variable with the text of a tweet with hashtags as normal text\n",
    "X_train_text = X_train.loc[:, 'preprocessed_text_tokenized']\n",
    "\n",
    "# Response variable, whether the tweet is related to an incident (0 or 1)\n",
    "y_train = y_train.loc[:, 'has_Incident_Related'].astype('int')"
   ]
  },
  {
   "cell_type": "markdown",
   "metadata": {},
   "source": [
    "# Create Word Embedding Matrix\n",
    "The next step is to create a word embedding matrix. A word embedding is a numerical representation of a word.\n",
    "\n",
    "In order to feed the word embedding matrix into the convolutional neural network, we need to create an array with three levels:\n",
    "- Level 1 corresponds to the individual tweets\n",
    "- Level 2 corresponds to the individual words in a tweet\n",
    "- Level 3 corresponds to the word embedding of an individual word. This word embedding consists of 300 dimensions.\n",
    "\n",
    "Also, each of the levels must have a fixed length (requirement of the convolutional neural network). Because of this, we need to decide on how many words we want to take. \n",
    "\n",
    "Following the paper of Dabiri and Heaslip (2019), take the 90th-percentile of all tweets will be taken."
   ]
  },
  {
   "cell_type": "code",
   "execution_count": 13,
   "metadata": {},
   "outputs": [
    {
     "name": "stdout",
     "output_type": "stream",
     "text": [
      "Nintypercentile of text_no_hashtag is: 24.0\n",
      "Nintypercentile of text is: 24.0\n"
     ]
    }
   ],
   "source": [
    "# Create an empty numpy array\n",
    "# This is needed to store all the lenghts of the review in one array\n",
    "list_n_words_text_no_hashtag = np.empty(len(X_train_text_no_hashtag), int)\n",
    "list_n_words_text = np.empty(len(X_train_text), int)\n",
    "\n",
    "# Necessary for the for-loop\n",
    "i = 0\n",
    "\n",
    "# Add the length (of words) of each review to the list_n_words_text_no_hashtag array\n",
    "for tweet in X_train_text_no_hashtag:\n",
    "    list_n_words_text_no_hashtag[i] = len(tweet)\n",
    "    i += 1\n",
    "    \n",
    "# Necessary for the for-loop\n",
    "i = 0\n",
    "    \n",
    "# Add the length (of words) of each review to the list_n_words_text array\n",
    "for tweet in X_train_text:\n",
    "    list_n_words_text[i] = len(tweet)\n",
    "    i += 1\n",
    "    \n",
    "# Determine the 90-th percentile of the length (of words) of all tweets\n",
    "nintypercentile_text_no_hashtag = np.percentile(list_n_words_text_no_hashtag, 90)\n",
    "nintypercentile_text = np.percentile(list_n_words_text, 90)\n",
    "print(\"Nintypercentile of text_no_hashtag is:\", nintypercentile_text_no_hashtag)\n",
    "print(\"Nintypercentile of text is:\", nintypercentile_text)"
   ]
  },
  {
   "cell_type": "code",
   "execution_count": 10,
   "metadata": {},
   "outputs": [],
   "source": [
    "# Load Dutch Word Embedding Model of FastText\n",
    "model_we = load_facebook_model('cc.nl.300.bin')"
   ]
  },
  {
   "cell_type": "code",
   "execution_count": 19,
   "metadata": {},
   "outputs": [
    {
     "name": "stderr",
     "output_type": "stream",
     "text": [
      "<ipython-input-19-f70083e12440>:31: DeprecationWarning: Call to deprecated `__getitem__` (Method will be removed in 4.0.0, use self.wv.__getitem__() instead).\n",
      "  Train_X_text_no_hashtag[i, index, :] = model_we[word]\n",
      "<ipython-input-19-f70083e12440>:53: DeprecationWarning: Call to deprecated `__getitem__` (Method will be removed in 4.0.0, use self.wv.__getitem__() instead).\n",
      "  Train_X_text[i, index, :] = model_we[word]\n"
     ]
    }
   ],
   "source": [
    "# For each word, we have 300 dimensions\n",
    "# These dimensions come from the word embedding\n",
    "d = 300\n",
    "\n",
    "# Per tweet, we have about 228 words (which is the 90th percentile)\n",
    "L_text_no_hashtag = int(nintypercentile_text_no_hashtag)\n",
    "L_text = int(nintypercentile_text)\n",
    "\n",
    "# Create empty arrays with 3 levels\n",
    "Train_X_text_no_hashtag = np.zeros((len(X_train_text_no_hashtag), L_text_no_hashtag, d), dtype=np.float32)\n",
    "Train_X_text = np.zeros((len(X_train_text), L_text, d), dtype=np.float32)\n",
    "\n",
    "# Necessary for the for-loop\n",
    "i = 0\n",
    "\n",
    "# For each tweet\n",
    "# Make sure that the tweet is a list of tokens\n",
    "# For each word in the tweet, make sure that it doesn't have ''\n",
    "# For each word in the tweet, determine the word embedding and put it in the third-level of Train_X\n",
    "for tweet in X_train_text_no_hashtag:\n",
    "    \n",
    "    # If tweet is a string, convert it to list\n",
    "    if type(tweet) == str:\n",
    "        tweet = tweet.strip('][').split(', ') \n",
    "        \n",
    "    index = 0\n",
    "    \n",
    "    for word in tweet:\n",
    "        if index < L_text_no_hashtag:\n",
    "            word = word.replace(\"'\", \"\")\n",
    "            Train_X_text_no_hashtag[i, index, :] = model_we[word]\n",
    "            index += 1\n",
    "    i += 1\n",
    "    \n",
    "# Necessary for the for-loop\n",
    "i = 0\n",
    "\n",
    "# For each tweet\n",
    "# Make sure that the tweet is a list of tokens\n",
    "# For each word in the tweet, make sure that it doesn't have ''\n",
    "# For each word in the tweet, determine the word embedding and put it in the third-level of Train_X\n",
    "for tweet in X_train_text:\n",
    "    \n",
    "    # If tweet is a string, convert it to list\n",
    "    if type(tweet) == str:\n",
    "        tweet = tweet.strip('][').split(', ') \n",
    "        \n",
    "    index = 0\n",
    "    \n",
    "    for word in tweet:\n",
    "        if index < L_text:\n",
    "            word = word.replace(\"'\", \"\")\n",
    "            Train_X_text[i, index, :] = model_we[word]\n",
    "            index += 1\n",
    "    i += 1"
   ]
  },
  {
   "cell_type": "code",
   "execution_count": 27,
   "metadata": {},
   "outputs": [],
   "source": [
    "# Export the arrays for future reference\n",
    "# These are not available in the Github, because they are too large\n",
    "save('Train arrays - CNN/Train_X_text_no_hashtag.npy', Train_X_text_no_hashtag)\n",
    "save('Train arrays - CNN/Train_X_text.npy', Train_X_text)"
   ]
  },
  {
   "cell_type": "code",
   "execution_count": 4,
   "metadata": {},
   "outputs": [],
   "source": [
    "Train_X_text_no_hashtag = load('Train arrays - CNN/Train_X_text_no_hashtag.npy')\n",
    "Train_X_text = load('Train arrays - CNN/Train_X_text.npy')"
   ]
  },
  {
   "cell_type": "markdown",
   "metadata": {},
   "source": [
    "# Build the Convolutional Neural Network\n",
    "Now that we have the word embeddings, we can train a neural network.\n",
    "\n",
    "Below code is based on a previous paper, extra comments are added."
   ]
  },
  {
   "cell_type": "code",
   "execution_count": 116,
   "metadata": {},
   "outputs": [
    {
     "name": "stdout",
     "output_type": "stream",
     "text": [
      "Epoch 1/20\n",
      "79/79 [==============================] - 2s 16ms/step - loss: 0.5543 - f1_m: 0.7439 - val_loss: 0.4689 - val_f1_m: 0.8016\n",
      "\n",
      "Epoch 00001: val_f1_m improved from -inf to 0.80164, saving model to cnn-1-weights.hdf5\n",
      "Epoch 2/20\n",
      "79/79 [==============================] - 1s 11ms/step - loss: 0.4464 - f1_m: 0.8071 - val_loss: 0.4381 - val_f1_m: 0.8190\n",
      "\n",
      "Epoch 00002: val_f1_m improved from 0.80164 to 0.81900, saving model to cnn-1-weights.hdf5\n",
      "Epoch 3/20\n",
      "79/79 [==============================] - 1s 11ms/step - loss: 0.4118 - f1_m: 0.8291 - val_loss: 0.4142 - val_f1_m: 0.8248\n",
      "\n",
      "Epoch 00003: val_f1_m improved from 0.81900 to 0.82484, saving model to cnn-1-weights.hdf5\n",
      "Epoch 4/20\n",
      "79/79 [==============================] - 1s 13ms/step - loss: 0.3756 - f1_m: 0.8426 - val_loss: 0.3984 - val_f1_m: 0.8353\n",
      "\n",
      "Epoch 00004: val_f1_m improved from 0.82484 to 0.83525, saving model to cnn-1-weights.hdf5\n",
      "Epoch 5/20\n",
      "79/79 [==============================] - 1s 12ms/step - loss: 0.3506 - f1_m: 0.8544 - val_loss: 0.3807 - val_f1_m: 0.8348\n",
      "\n",
      "Epoch 00005: val_f1_m did not improve from 0.83525\n",
      "Epoch 6/20\n",
      "79/79 [==============================] - 1s 13ms/step - loss: 0.3367 - f1_m: 0.8599 - val_loss: 0.3672 - val_f1_m: 0.8435\n",
      "\n",
      "Epoch 00006: val_f1_m improved from 0.83525 to 0.84345, saving model to cnn-1-weights.hdf5\n",
      "Epoch 7/20\n",
      "79/79 [==============================] - 1s 11ms/step - loss: 0.3175 - f1_m: 0.8737 - val_loss: 0.3511 - val_f1_m: 0.8573\n",
      "\n",
      "Epoch 00007: val_f1_m improved from 0.84345 to 0.85734, saving model to cnn-1-weights.hdf5\n",
      "Epoch 8/20\n",
      "79/79 [==============================] - 1s 12ms/step - loss: 0.2987 - f1_m: 0.8791 - val_loss: 0.3454 - val_f1_m: 0.8556\n",
      "\n",
      "Epoch 00008: val_f1_m did not improve from 0.85734\n",
      "Epoch 9/20\n",
      "79/79 [==============================] - 1s 12ms/step - loss: 0.2776 - f1_m: 0.8947 - val_loss: 0.3309 - val_f1_m: 0.8591\n",
      "\n",
      "Epoch 00009: val_f1_m improved from 0.85734 to 0.85908, saving model to cnn-1-weights.hdf5\n",
      "Epoch 10/20\n",
      "79/79 [==============================] - 1s 13ms/step - loss: 0.2654 - f1_m: 0.8996 - val_loss: 0.3220 - val_f1_m: 0.8591\n",
      "\n",
      "Epoch 00010: val_f1_m did not improve from 0.85908\n",
      "Epoch 11/20\n",
      "79/79 [==============================] - 1s 12ms/step - loss: 0.2493 - f1_m: 0.9048 - val_loss: 0.3078 - val_f1_m: 0.8678\n",
      "\n",
      "Epoch 00011: val_f1_m improved from 0.85908 to 0.86776, saving model to cnn-1-weights.hdf5\n",
      "Epoch 12/20\n",
      "79/79 [==============================] - 1s 13ms/step - loss: 0.2362 - f1_m: 0.9097 - val_loss: 0.3037 - val_f1_m: 0.8660\n",
      "\n",
      "Epoch 00012: val_f1_m did not improve from 0.86776\n",
      "Epoch 13/20\n",
      "79/79 [==============================] - 1s 14ms/step - loss: 0.2287 - f1_m: 0.9129 - val_loss: 0.2912 - val_f1_m: 0.8777\n",
      "\n",
      "Epoch 00013: val_f1_m improved from 0.86776 to 0.87770, saving model to cnn-1-weights.hdf5\n",
      "Epoch 14/20\n",
      "79/79 [==============================] - 1s 11ms/step - loss: 0.2136 - f1_m: 0.9241 - val_loss: 0.2874 - val_f1_m: 0.8760\n",
      "\n",
      "Epoch 00014: val_f1_m did not improve from 0.87770\n",
      "Epoch 15/20\n",
      "79/79 [==============================] - 1s 11ms/step - loss: 0.2015 - f1_m: 0.9283 - val_loss: 0.2802 - val_f1_m: 0.8922\n",
      "\n",
      "Epoch 00015: val_f1_m improved from 0.87770 to 0.89221, saving model to cnn-1-weights.hdf5\n",
      "Epoch 16/20\n",
      "79/79 [==============================] - 1s 12ms/step - loss: 0.1965 - f1_m: 0.9313 - val_loss: 0.2770 - val_f1_m: 0.8829\n",
      "\n",
      "Epoch 00016: val_f1_m did not improve from 0.89221\n",
      "Epoch 17/20\n",
      "79/79 [==============================] - 1s 11ms/step - loss: 0.1807 - f1_m: 0.9373 - val_loss: 0.2675 - val_f1_m: 0.8922\n",
      "\n",
      "Epoch 00017: val_f1_m did not improve from 0.89221\n",
      "Epoch 18/20\n",
      "79/79 [==============================] - 1s 12ms/step - loss: 0.1854 - f1_m: 0.9327 - val_loss: 0.2624 - val_f1_m: 0.9050\n",
      "\n",
      "Epoch 00018: val_f1_m improved from 0.89221 to 0.90499, saving model to cnn-1-weights.hdf5\n",
      "Epoch 19/20\n",
      "79/79 [==============================] - 1s 11ms/step - loss: 0.1697 - f1_m: 0.9406 - val_loss: 0.2503 - val_f1_m: 0.9154\n",
      "\n",
      "Epoch 00019: val_f1_m improved from 0.90499 to 0.91541, saving model to cnn-1-weights.hdf5\n",
      "Epoch 20/20\n",
      "79/79 [==============================] - 1s 11ms/step - loss: 0.1595 - f1_m: 0.9475 - val_loss: 0.2515 - val_f1_m: 0.8946\n",
      "\n",
      "Epoch 00020: val_f1_m did not improve from 0.91541\n"
     ]
    }
   ],
   "source": [
    "NoClass = len(list(set((y_train))))\n",
    "\n",
    "Train_Y = keras.utils.to_categorical(y_train, num_classes=NoClass)\n",
    "\n",
    "# Initiate a Sequential model1\n",
    "model1 = Sequential()\n",
    "\n",
    "# Reshape input layer into the desired shape\n",
    "model1.add(Reshape((L_text_no_hashtag, d, 1), input_shape=(L_text_no_hashtag, d)))\n",
    "\n",
    "# Add a Convolutional layer with:\n",
    "# - 100 filters\n",
    "# - Kernel size of 2 by number of dimensions (typically around 300 per word)\n",
    "# - Strides of (1,1) (= default value)\n",
    "# - Padding as valid (no padding)\n",
    "# - Relu as activation method\n",
    "# - Use_bias as True (= default value)\n",
    "model1.add(Conv2D(100, (2, d), strides=(1, 1), padding='valid', activation='relu', use_bias=True))\n",
    "output = model1.output_shape\n",
    "\n",
    "# Add a two-dimensional Maxpooling layer \n",
    "model1.add(MaxPooling2D(pool_size=(output[1], output[2])))\n",
    "\n",
    "# Add a Drop-out layer\n",
    "model1.add(Dropout(.5))\n",
    "\n",
    "# Flatten the output\n",
    "model1.add(Flatten())\n",
    "\n",
    "# Add a Dense layer with softmax activation and use NoClass (2 values) as output\n",
    "model1.add(Dense(NoClass, activation='softmax'))\n",
    "\n",
    "# Optimizer and loss function\n",
    "optimizer1 = Adam(lr=0.001, beta_1=0.9, beta_2=0.999, epsilon=1e-08, decay=0.0)\n",
    "model1.compile(optimizer=optimizer1, loss='categorical_crossentropy', metrics=[f1_m])\n",
    "\n",
    "filepath = \"Models/cnn-1-weights.hdf5\"\n",
    "checkpoint = ModelCheckpoint(filepath, monitor='val_f1_m', verbose=1, save_best_only=True, mode='max')\n",
    "callbacks_list = [checkpoint]\n",
    "\n",
    "hist1 = model1.fit(Train_X_text_no_hashtag, Train_Y, epochs=20, batch_size=64, shuffle=False, validation_split=0.1, callbacks=callbacks_list)"
   ]
  },
  {
   "cell_type": "code",
   "execution_count": 4,
   "metadata": {},
   "outputs": [
    {
     "name": "stdout",
     "output_type": "stream",
     "text": [
      "The optimal epoch size: 19, The value of highest validation F-Measure: 0.9154106974601746\n"
     ]
    }
   ],
   "source": [
    "# Print the maximum acc_val and its corresponding epoch\n",
    "index = np.argmax(hist1.history['val_f1_m'])\n",
    "print('The optimal epoch size: {}, The value of highest validation F-Measure: {}'.format(hist1.epoch[index+1], np.max(hist1.history['val_f1_m'])))"
   ]
  },
  {
   "cell_type": "code",
   "execution_count": 131,
   "metadata": {},
   "outputs": [],
   "source": [
    "# Best model is at epoch 00018\n",
    "# Fit the model on the data with those weights\n",
    "model1.load_weights(\"Models/cnn-1-weights.hdf5\")\n",
    "model1.compile(optimizer=optimizer1, loss='categorical_crossentropy', metrics=[f1_m])"
   ]
  },
  {
   "cell_type": "code",
   "execution_count": 132,
   "metadata": {},
   "outputs": [
    {
     "name": "stdout",
     "output_type": "stream",
     "text": [
      "Epoch 1/20\n",
      "79/79 [==============================] - 2s 16ms/step - loss: 0.5624 - f1_m: 0.7288 - val_loss: 0.4759 - val_f1_m: 0.7837\n",
      "\n",
      "Epoch 00001: val_f1_m improved from -inf to 0.78365, saving model to cnn-2-weights.hdf5\n",
      "Epoch 2/20\n",
      "79/79 [==============================] - 1s 11ms/step - loss: 0.4640 - f1_m: 0.7904 - val_loss: 0.4422 - val_f1_m: 0.8034\n",
      "\n",
      "Epoch 00002: val_f1_m improved from 0.78365 to 0.80338, saving model to cnn-2-weights.hdf5\n",
      "Epoch 3/20\n",
      "79/79 [==============================] - 1s 12ms/step - loss: 0.4218 - f1_m: 0.8181 - val_loss: 0.4169 - val_f1_m: 0.8220\n",
      "\n",
      "Epoch 00003: val_f1_m improved from 0.80338 to 0.82199, saving model to cnn-2-weights.hdf5\n",
      "Epoch 4/20\n",
      "79/79 [==============================] - 1s 14ms/step - loss: 0.3854 - f1_m: 0.8359 - val_loss: 0.3980 - val_f1_m: 0.8330\n",
      "\n",
      "Epoch 00004: val_f1_m improved from 0.82199 to 0.83304, saving model to cnn-2-weights.hdf5\n",
      "Epoch 5/20\n",
      "79/79 [==============================] - 1s 12ms/step - loss: 0.3634 - f1_m: 0.8481 - val_loss: 0.3858 - val_f1_m: 0.8400\n",
      "\n",
      "Epoch 00005: val_f1_m improved from 0.83304 to 0.83998, saving model to cnn-2-weights.hdf5\n",
      "Epoch 6/20\n",
      "79/79 [==============================] - 1s 12ms/step - loss: 0.3414 - f1_m: 0.8569 - val_loss: 0.3688 - val_f1_m: 0.8539\n",
      "\n",
      "Epoch 00006: val_f1_m improved from 0.83998 to 0.85387, saving model to cnn-2-weights.hdf5\n",
      "Epoch 7/20\n",
      "79/79 [==============================] - 1s 13ms/step - loss: 0.3245 - f1_m: 0.8702 - val_loss: 0.3541 - val_f1_m: 0.8591\n",
      "\n",
      "Epoch 00007: val_f1_m improved from 0.85387 to 0.85908, saving model to cnn-2-weights.hdf5\n",
      "Epoch 8/20\n",
      "79/79 [==============================] - 1s 12ms/step - loss: 0.2970 - f1_m: 0.8804 - val_loss: 0.3439 - val_f1_m: 0.8573\n",
      "\n",
      "Epoch 00008: val_f1_m did not improve from 0.85908\n",
      "Epoch 9/20\n",
      "79/79 [==============================] - 1s 12ms/step - loss: 0.2735 - f1_m: 0.8959 - val_loss: 0.3325 - val_f1_m: 0.8626\n",
      "\n",
      "Epoch 00009: val_f1_m improved from 0.85908 to 0.86255, saving model to cnn-2-weights.hdf5\n",
      "Epoch 10/20\n",
      "79/79 [==============================] - 1s 12ms/step - loss: 0.2629 - f1_m: 0.9033 - val_loss: 0.3233 - val_f1_m: 0.8626\n",
      "\n",
      "Epoch 00010: val_f1_m did not improve from 0.86255\n",
      "Epoch 11/20\n",
      "79/79 [==============================] - 1s 13ms/step - loss: 0.2458 - f1_m: 0.9083 - val_loss: 0.3202 - val_f1_m: 0.8643\n",
      "\n",
      "Epoch 00011: val_f1_m improved from 0.86255 to 0.86429, saving model to cnn-2-weights.hdf5\n",
      "Epoch 12/20\n",
      "79/79 [==============================] - 1s 12ms/step - loss: 0.2381 - f1_m: 0.9099 - val_loss: 0.3091 - val_f1_m: 0.8753\n",
      "\n",
      "Epoch 00012: val_f1_m improved from 0.86429 to 0.87533, saving model to cnn-2-weights.hdf5\n",
      "Epoch 13/20\n",
      "79/79 [==============================] - 1s 12ms/step - loss: 0.2283 - f1_m: 0.9121 - val_loss: 0.2989 - val_f1_m: 0.8782\n",
      "\n",
      "Epoch 00013: val_f1_m improved from 0.87533 to 0.87818, saving model to cnn-2-weights.hdf5\n",
      "Epoch 14/20\n",
      "79/79 [==============================] - 1s 13ms/step - loss: 0.2104 - f1_m: 0.9235 - val_loss: 0.2952 - val_f1_m: 0.8805\n",
      "\n",
      "Epoch 00014: val_f1_m improved from 0.87818 to 0.88054, saving model to cnn-2-weights.hdf5\n",
      "Epoch 15/20\n",
      "79/79 [==============================] - 1s 13ms/step - loss: 0.2003 - f1_m: 0.9310 - val_loss: 0.2912 - val_f1_m: 0.8916\n",
      "\n",
      "Epoch 00015: val_f1_m improved from 0.88054 to 0.89159, saving model to cnn-2-weights.hdf5\n",
      "Epoch 16/20\n",
      "79/79 [==============================] - 1s 12ms/step - loss: 0.1901 - f1_m: 0.9309 - val_loss: 0.2868 - val_f1_m: 0.9026\n",
      "\n",
      "Epoch 00016: val_f1_m improved from 0.89159 to 0.90263, saving model to cnn-2-weights.hdf5\n",
      "Epoch 17/20\n",
      "79/79 [==============================] - 1s 13ms/step - loss: 0.1824 - f1_m: 0.9389 - val_loss: 0.2805 - val_f1_m: 0.9009\n",
      "\n",
      "Epoch 00017: val_f1_m did not improve from 0.90263\n",
      "Epoch 18/20\n",
      "79/79 [==============================] - 1s 12ms/step - loss: 0.1674 - f1_m: 0.9457 - val_loss: 0.2756 - val_f1_m: 0.9009\n",
      "\n",
      "Epoch 00018: val_f1_m did not improve from 0.90263\n",
      "Epoch 19/20\n",
      "79/79 [==============================] - 1s 12ms/step - loss: 0.1617 - f1_m: 0.9460 - val_loss: 0.2719 - val_f1_m: 0.9044\n",
      "\n",
      "Epoch 00019: val_f1_m improved from 0.90263 to 0.90437, saving model to cnn-2-weights.hdf5\n",
      "Epoch 20/20\n",
      "79/79 [==============================] - 1s 13ms/step - loss: 0.1591 - f1_m: 0.9471 - val_loss: 0.2658 - val_f1_m: 0.9102\n",
      "\n",
      "Epoch 00020: val_f1_m improved from 0.90437 to 0.91020, saving model to cnn-2-weights.hdf5\n"
     ]
    }
   ],
   "source": [
    "NoClass = len(list(set((y_train))))\n",
    "\n",
    "Train_Y = keras.utils.to_categorical(y_train, num_classes=NoClass)\n",
    "\n",
    "# Initiate a Sequential model2\n",
    "model2 = Sequential()\n",
    "\n",
    "# Reshape input layer into the desired shape\n",
    "model2.add(Reshape((L_text, d, 1), input_shape=(L_text, d)))\n",
    "\n",
    "# Add a Convolutional layer with:\n",
    "# - 100 filters\n",
    "# - Kernel size of 2 by number of dimensions (typically around 300 per word)\n",
    "# - Strides of (1,1) (= default value)\n",
    "# - Padding as valid (no padding)\n",
    "# - Relu as activation method\n",
    "# - Use_bias as True (= default value)\n",
    "model2.add(Conv2D(100, (2, d), strides=(1, 1), padding='valid', activation='relu', use_bias=True))\n",
    "output = model2.output_shape\n",
    "\n",
    "# Add a two-dimensional Maxpooling layer \n",
    "model2.add(MaxPooling2D(pool_size=(output[1], output[2])))\n",
    "\n",
    "# Add a Drop-out layer\n",
    "model2.add(Dropout(.5))\n",
    "\n",
    "# Flatten the output\n",
    "model2.add(Flatten())\n",
    "\n",
    "# Add a Dense layer with softmax activation and use NoClass (2 values) as output\n",
    "model2.add(Dense(NoClass, activation='softmax'))\n",
    "\n",
    "# Optimizer and loss function\n",
    "optimizer2 = Adam(lr=0.001, beta_1=0.9, beta_2=0.999, epsilon=1e-08, decay=0.0)\n",
    "\n",
    "model2.compile(optimizer=optimizer2, loss='categorical_crossentropy', metrics=[f1_m])\n",
    "\n",
    "filepath = \"Models/cnn-2-weights.hdf5\"\n",
    "checkpoint = ModelCheckpoint(filepath, monitor='val_f1_m', verbose=1, save_best_only=True, mode='max')\n",
    "callbacks_list = [checkpoint]\n",
    "\n",
    "hist2 = model2.fit(Train_X_text, Train_Y, epochs=20, batch_size=64, shuffle=False, validation_split=0.1, callbacks=callbacks_list)"
   ]
  },
  {
   "cell_type": "code",
   "execution_count": 5,
   "metadata": {},
   "outputs": [
    {
     "name": "stdout",
     "output_type": "stream",
     "text": [
      "The optimal epoch size: 20, The value of highest validation F-Measure: 0.9102023243904114\n"
     ]
    }
   ],
   "source": [
    "# Print the maximum acc_val and its corresponding epoch\n",
    "index = np.argmax(hist2.history['val_f1_m'])\n",
    "print('The optimal epoch size: {}, The value of highest validation F-Measure: {}'.format(hist2.epoch[index+1], np.max(hist2.history['val_f1_m'])))"
   ]
  },
  {
   "cell_type": "code",
   "execution_count": 134,
   "metadata": {},
   "outputs": [],
   "source": [
    "# Best model is at epoch 19\n",
    "# Fit the model on the data with those weights\n",
    "model2.load_weights(\"Models/cnn-2-weights.hdf5\")\n",
    "model2.compile(optimizer=optimizer1, loss='categorical_crossentropy', metrics=[f1_m])"
   ]
  },
  {
   "cell_type": "code",
   "execution_count": 135,
   "metadata": {},
   "outputs": [
    {
     "name": "stdout",
     "output_type": "stream",
     "text": [
      "INFO:tensorflow:Assets written to: Models/cnn-1/assets\n",
      "INFO:tensorflow:Assets written to: Models/cnn-2/assets\n"
     ]
    }
   ],
   "source": [
    "# Export the models \n",
    "model1.save('Models/cnn-1')\n",
    "model2.save('Models/cnn-2')"
   ]
  },
  {
   "cell_type": "code",
   "execution_count": 4,
   "metadata": {},
   "outputs": [],
   "source": [
    "dependencies = {\n",
    "    'f1_m': f1_m\n",
    "}\n",
    "\n",
    "model1 = keras.models.load_model('Models/cnn-1', custom_objects=dependencies)\n",
    "model1.load_weights(\"Models/cnn-1-weights.hdf5\")\n",
    "model2 = keras.models.load_model('Models/cnn-2', custom_objects=dependencies)\n",
    "model2.load_weights(\"Models/cnn-2-weights.hdf5\")\n",
    "\n",
    "# Load the models\n",
    "#model1 = keras.models.load_model('Models/cnn-1')\n",
    "#model2 = keras.models.load_model('Models/cnn-2')"
   ]
  },
  {
   "cell_type": "markdown",
   "metadata": {},
   "source": [
    "# Predict on the test data"
   ]
  },
  {
   "cell_type": "code",
   "execution_count": 12,
   "metadata": {},
   "outputs": [],
   "source": [
    "# Import the Test data\n",
    "test = pd.read_pickle('~/Documents/Github Repository/early-warning-twitter/Processed datasets/Model data/Test.pkl')\n",
    "\n",
    "X_test = test.loc[:, test.columns != 'has_Incident_Related']\n",
    "y_test = test[['has_Incident_Related']]\n",
    "\n",
    "# Variable with the text of a tweet without hashtags \n",
    "X_test_text_no_hashtag = X_test.loc[:, 'preprocessed_text_tokenized_no_hashtag']\n",
    "\n",
    "# Variable with the text of a tweet with hashtags as normal text\n",
    "X_test_text = X_test.loc[:, 'preprocessed_text_tokenized']\n",
    "\n",
    "# Response variable, whether the tweet is related to an incident (0 or 1)\n",
    "y_test = y_test.loc[:, 'has_Incident_Related'].astype('int')"
   ]
  },
  {
   "cell_type": "code",
   "execution_count": 137,
   "metadata": {},
   "outputs": [
    {
     "name": "stderr",
     "output_type": "stream",
     "text": [
      "<ipython-input-137-5741c08be630>:19: DeprecationWarning: Call to deprecated `__getitem__` (Method will be removed in 4.0.0, use self.wv.__getitem__() instead).\n",
      "  Test_X_text_no_hashtag[i, index, :] = model_we[word]\n",
      "<ipython-input-137-5741c08be630>:37: DeprecationWarning: Call to deprecated `__getitem__` (Method will be removed in 4.0.0, use self.wv.__getitem__() instead).\n",
      "  Test_X_text[i, index, :] = model_we[word]\n"
     ]
    }
   ],
   "source": [
    "# Create an empty array that we can fill with tweets\n",
    "Test_X_text_no_hashtag = np.zeros((len(X_test_text_no_hashtag), L_text_no_hashtag, d), dtype=np.float32)\n",
    "Test_X_text = np.zeros((len(X_test_text), L_text, d), dtype=np.float32)\n",
    "\n",
    "# Necessary for the for-loop\n",
    "i = 0\n",
    "\n",
    "for tweet in X_test_text_no_hashtag:\n",
    "    \n",
    "    # If tweet is a string, convert it to list\n",
    "    if type(tweet) == str:\n",
    "        tweet = tweet.strip('][').split(', ') \n",
    "        \n",
    "    index = 0\n",
    "    \n",
    "    for word in tweet:\n",
    "        if index < L_text_no_hashtag:\n",
    "            word = word.replace(\"'\", \"\")\n",
    "            Test_X_text_no_hashtag[i, index, :] = model_we[word]\n",
    "            index += 1\n",
    "    i += 1\n",
    "\n",
    "# Necessary for the for-loop\n",
    "i = 0\n",
    "\n",
    "for tweet in X_test_text:\n",
    "    \n",
    "    # If tweet is a string, convert it to list\n",
    "    if type(tweet) == str:\n",
    "        tweet = tweet.strip('][').split(', ') \n",
    "        \n",
    "    index = 0\n",
    "    \n",
    "    for word in tweet:\n",
    "        if index < L_text:\n",
    "            word = word.replace(\"'\", \"\")\n",
    "            Test_X_text[i, index, :] = model_we[word]\n",
    "            index += 1\n",
    "    i += 1"
   ]
  },
  {
   "cell_type": "code",
   "execution_count": 84,
   "metadata": {},
   "outputs": [],
   "source": [
    "# Export the arrays for future reference\n",
    "# These are not available in the Github, because they are too large\n",
    "save('Test arrays - CNN/Test_X_text_no_hashtag.npy', Test_X_text_no_hashtag)\n",
    "save('Test arrays - CNN/Test_X_text.npy', Test_X_text)"
   ]
  },
  {
   "cell_type": "code",
   "execution_count": 13,
   "metadata": {},
   "outputs": [],
   "source": [
    "Test_X_text_no_hashtag = load('Test arrays - CNN/Test_X_text_no_hashtag.npy')\n",
    "Test_X_text = load('Test arrays - CNN/Test_X_text.npy')"
   ]
  },
  {
   "cell_type": "code",
   "execution_count": 5,
   "metadata": {},
   "outputs": [],
   "source": [
    "def predict_data(model, test_data, y_test):\n",
    "    pred = model.predict(test_data, batch_size=64)\n",
    "    y_pred = np.argmax(pred, axis=1)\n",
    "    y_test_ori = [int(item) for item in y_test]\n",
    "    print('Test Accuracy %: ', len(np.where(y_pred1 == np.array(y_test_ori))[0])/len(y_test_ori))\n",
    "    print('\\n')\n",
    "    print('Confusion matrix: ', confusion_matrix(y_test_ori, y_pred))\n",
    "    print('\\n')\n",
    "    print(classification_report(y_test_ori, y_pred, digits=3))\n",
    "\n",
    "    # Predict the probabilities for the testing dataset (necessary for AUC)\n",
    "    y_pred_prob = pred[:, 1]\n",
    "\n",
    "    cnn_auc = roc_auc_score(y_test, y_pred_prob)\n",
    "    print('CNN: ROC AUC=%.3f' % (cnn_auc))\n",
    "    nb_fpr, nb_tpr, _ = roc_curve(y_test, y_pred_prob)\n",
    "    plt.plot(nb_fpr, nb_tpr, marker='.', label='CNN')\n",
    "    # axis labels\n",
    "    plt.xlabel('False Positive Rate')\n",
    "    plt.ylabel('True Positive Rate')\n",
    "    # show the legend\n",
    "    plt.legend()\n",
    "    # show the plot\n",
    "    plt.show()\n",
    "    print(\"-------------------------------------\")"
   ]
  },
  {
   "cell_type": "code",
   "execution_count": 38,
   "metadata": {},
   "outputs": [
    {
     "name": "stdout",
     "output_type": "stream",
     "text": [
      "Test Accuracy %:  0.9255014326647565\n",
      "\n",
      "\n",
      "Confusion matrix:  [[976  38]\n",
      " [ 66 316]]\n",
      "\n",
      "\n",
      "              precision    recall  f1-score   support\n",
      "\n",
      "           0      0.937     0.963     0.949      1014\n",
      "           1      0.893     0.827     0.859       382\n",
      "\n",
      "    accuracy                          0.926      1396\n",
      "   macro avg      0.915     0.895     0.904      1396\n",
      "weighted avg      0.925     0.926     0.925      1396\n",
      "\n",
      "CNN: ROC AUC=0.958\n"
     ]
    },
    {
     "data": {
      "image/png": "[encoded data removed]",
      "text/plain": [
       "<Figure size 432x288 with 1 Axes>"
      ]
     },
     "metadata": {
      "needs_background": "light"
     },
     "output_type": "display_data"
    },
    {
     "name": "stdout",
     "output_type": "stream",
     "text": [
      "-------------------------------------\n",
      "Test Accuracy %:  0.9255014326647565\n",
      "\n",
      "\n",
      "Confusion matrix:  [[976  38]\n",
      " [ 75 307]]\n",
      "\n",
      "\n",
      "              precision    recall  f1-score   support\n",
      "\n",
      "           0      0.929     0.963     0.945      1014\n",
      "           1      0.890     0.804     0.845       382\n",
      "\n",
      "    accuracy                          0.919      1396\n",
      "   macro avg      0.909     0.883     0.895      1396\n",
      "weighted avg      0.918     0.919     0.918      1396\n",
      "\n",
      "CNN: ROC AUC=0.958\n"
     ]
    },
    {
     "data": {
      "image/png": "[encoded data removed]",
      "text/plain": [
       "<Figure size 432x288 with 1 Axes>"
      ]
     },
     "metadata": {
      "needs_background": "light"
     },
     "output_type": "display_data"
    },
    {
     "name": "stdout",
     "output_type": "stream",
     "text": [
      "-------------------------------------\n"
     ]
    }
   ],
   "source": [
    "predict_data(model1, Test_X_text_no_hashtag, y_test)\n",
    "predict_data(model2, Test_X_text, y_test)"
   ]
  },
  {
   "cell_type": "code",
   "execution_count": 7,
   "metadata": {},
   "outputs": [
    {
     "data": {
      "image/png": "[encoded data removed]",
      "text/plain": [
       "<Figure size 1080x360 with 1 Axes>"
      ]
     },
     "metadata": {
      "needs_background": "light"
     },
     "output_type": "display_data"
    }
   ],
   "source": [
    "cnn_1_train_val = pd.DataFrame(columns=[\"f1_m\", \"val_f1_m\"])\n",
    "\n",
    "epochs = list(range(1, 21))\n",
    "\n",
    "f1_m = [0.7439, 0.8071, 0.8291, 0.8426, 0.8544, 0.8599, 0.8737, 0.8791, 0.8947, 0.8996, 0.9048,\n",
    "       0.9097, 0.9129, 0.9241, 0.9283, 0.9313, 0.9373, 0.9327, 0.9406, 0.9475]\n",
    "\n",
    "val_f1_m = [0.8016, 0.8190, 0.8248, 0.8353, 0.8348, 0.8435, 0.8573, 0.8556, 0.8591, 0.8591, 0.8678,\n",
    "        0.8660, 0.8777, 0.8760, 0.8922, 0.8829, 0.8922, 0.9050, 0.9154, 0.8946]\n",
    "                                        \n",
    "\n",
    "cnn_1_train_val = pd.DataFrame({\"epochs\":epochs,\n",
    "                                \"f1_m\": f1_m, \n",
    "                                \"val_f1_m\": val_f1_m})\n",
    "\n",
    "cnn_1_train_val\n",
    "\n",
    "fig = plt.figure(figsize=(15,5))\n",
    "ax = fig.add_subplot()\n",
    "\n",
    "ax.plot(cnn_1_train_val[\"epochs\"], cnn_1_train_val[\"f1_m\"], label=\"Training F-Measure\")\n",
    "ax.plot(cnn_1_train_val[\"epochs\"], cnn_1_train_val[\"val_f1_m\"], label=\"Validation F-Measure\")\n",
    "plt.xlabel('Number of epochs')\n",
    "ax.set_ylabel('F-Measure', fontsize=15)\n",
    "ax.tick_params(axis='x', labelsize=12)\n",
    "ax.tick_params(axis='y', labelsize=12)\n",
    "\n",
    "ax.set_axisbelow(True)\n",
    "ax.grid(True, axis='y', color=\"#e5e5e5\")\n",
    "ax.spines['right'].set_visible(False)\n",
    "ax.spines['top'].set_visible(False)\n",
    "plt.legend(fontsize=12)\n",
    "plt.savefig('Plots/cnn-1-train-val.png', dpi=300)\n",
    "plt.show()"
   ]
  },
  {
   "cell_type": "code",
   "execution_count": 6,
   "metadata": {},
   "outputs": [
    {
     "data": {
      "image/png": "[encoded data removed]",
      "text/plain": [
       "<Figure size 1080x360 with 1 Axes>"
      ]
     },
     "metadata": {
      "needs_background": "light"
     },
     "output_type": "display_data"
    }
   ],
   "source": [
    "cnn_2_train_val = pd.DataFrame(columns=[\"f1_m\", \"val_f1_m\"])\n",
    "\n",
    "epochs = list(range(1, 21))\n",
    "\n",
    "f1_m = [0.7288, 0.7904, 0.8181, 0.8359, 0.8481, 0.8569, 0.8702, 0.8804, 0.8959, 0.9033, 0.9083,\n",
    "                                        0.9099, 0.9121, 0.9235, 0.9310, 0.9309, 0.9389, 0.9457, 0.9460, 0.9471]\n",
    "\n",
    "val_f1_m = [0.7837, 0.8034, 0.8220, 0.8330, 0.8400, 0.8539, 0.8591, 0.8573, 0.8626, 0.8626, 0.8643, \n",
    "                                            0.8753, 0.8782, 0.8805, 0.8916, 0.9026, 0.9009, 0.9009, 0.9044, 0.9102]\n",
    "                                        \n",
    "\n",
    "cnn_2_train_val = pd.DataFrame({\"epochs\":epochs,\n",
    "                                \"f1_m\": f1_m, \n",
    "                                \"val_f1_m\": val_f1_m})\n",
    "\n",
    "cnn_2_train_val\n",
    "\n",
    "fig = plt.figure(figsize=(15,5))\n",
    "ax = fig.add_subplot()\n",
    "\n",
    "ax.plot(cnn_2_train_val[\"epochs\"], cnn_2_train_val[\"f1_m\"], label=\"Training F-Measure\")\n",
    "ax.plot(cnn_2_train_val[\"epochs\"], cnn_2_train_val[\"val_f1_m\"], label=\"Validation F-Measure\")\n",
    "plt.xlabel('Number of epochs')\n",
    "ax.set_ylabel('F-Measure', fontsize=15)\n",
    "ax.tick_params(axis='x', labelsize=12)\n",
    "ax.tick_params(axis='y', labelsize=12)\n",
    "\n",
    "ax.set_axisbelow(True)\n",
    "ax.grid(True, axis='y', color=\"#e5e5e5\")\n",
    "ax.spines['right'].set_visible(False)\n",
    "ax.spines['top'].set_visible(False)\n",
    "plt.legend(fontsize=12)\n",
    "plt.savefig('Plots/cnn-2-train-val.png', dpi=300)\n",
    "plt.show()"
   ]
  },
  {
   "cell_type": "code",
   "execution_count": null,
   "metadata": {},
   "outputs": [],
   "source": []
  }
 ],
 "metadata": {
  "kernelspec": {
   "display_name": "Python 3",
   "language": "python",
   "name": "python3"
  },
  "language_info": {
   "codemirror_mode": {
    "name": "ipython",
    "version": 3
   },
   "file_extension": ".py",
   "mimetype": "text/x-python",
   "name": "python",
   "nbconvert_exporter": "python",
   "pygments_lexer": "ipython3",
   "version": "3.8.3"
  }
 },
 "nbformat": 4,
 "nbformat_minor": 4
}
