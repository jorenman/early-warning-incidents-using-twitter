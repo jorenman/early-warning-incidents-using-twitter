{
 "cells": [
  {
   "cell_type": "code",
   "execution_count": 17,
   "metadata": {},
   "outputs": [],
   "source": [
    "import pandas as pd\n",
    "from sklearn import metrics\n",
    "from sklearn.feature_extraction.text import TfidfVectorizer\n",
    "from sklearn.svm import SVC\n",
    "from sklearn.model_selection import KFold, cross_validate, GridSearchCV\n",
    "import pickle"
   ]
  },
  {
   "cell_type": "markdown",
   "metadata": {},
   "source": [
    "# Import data and set variables"
   ]
  },
  {
   "cell_type": "code",
   "execution_count": 18,
   "metadata": {},
   "outputs": [],
   "source": [
    "# Import data\n",
    "train = pd.read_pickle('~/Documents/Github Repository/early-warning-twitter/Processed datasets/Model data/Train.pkl')\n",
    "\n",
    "# Split up in X and y columns\n",
    "X_train = train.loc[:, train.columns != 'has_Incident_Related']\n",
    "y_train = train[['has_Incident_Related']]\n",
    "\n",
    "# Variable with the text of a tweet without hashtags \n",
    "X_train_text_no_hashtag = X_train.loc[:, 'preprocessed_text_no_hashtag']\n",
    "\n",
    "# Variable with the text of a tweet with hashtags as normal text\n",
    "X_train_text = X_train.loc[:, 'preprocessed_text']\n",
    "\n",
    "# Variable with whether a tweet has media (0 or 1)\n",
    "X_train_media = X_train.loc[:, 'has_media'].astype('int')\n",
    "\n",
    "# Response variable, whether the tweet is related to an incident (0 or 1)\n",
    "y_train = y_train.loc[:, 'has_Incident_Related'].astype('int')"
   ]
  },
  {
   "cell_type": "markdown",
   "metadata": {},
   "source": [
    "# Convert text data into tf-idf"
   ]
  },
  {
   "cell_type": "code",
   "execution_count": 19,
   "metadata": {},
   "outputs": [],
   "source": [
    "# Convert X_train_text_no_hashtag into tf-idf vectorized matrix\n",
    "vc_text_no_hashtag = TfidfVectorizer().fit(X_train_text_no_hashtag)\n",
    "X_train_text_no_hashtag_df = pd.DataFrame(vc_text_no_hashtag.transform(X_train_text_no_hashtag).todense(), columns=vc_text_no_hashtag.get_feature_names())\n",
    "\n",
    "# Convert X_train_text into tf-idf vectorized matrix\n",
    "vc_text = TfidfVectorizer().fit(X_train_text)\n",
    "X_train_text_df = pd.DataFrame(vc_text.transform(X_train_text).todense(), columns=vc_text.get_feature_names())"
   ]
  },
  {
   "cell_type": "code",
   "execution_count": 20,
   "metadata": {},
   "outputs": [],
   "source": [
    "# Reset index for all variables\n",
    "X_train_text_no_hashtag_df.reset_index(inplace=True, drop=True)\n",
    "X_train_text_df.reset_index(inplace=True, drop=True)\n",
    "X_train_media.reset_index(inplace=True, drop=True)\n",
    "\n",
    "train_data_1 = pd.concat([X_train_text_no_hashtag_df, X_train_media], axis=1, ignore_index=True)\n",
    "train_data_2 = pd.concat([X_train_text_df, X_train_media], axis=1, ignore_index=True)"
   ]
  },
  {
   "cell_type": "code",
   "execution_count": 25,
   "metadata": {},
   "outputs": [
    {
     "name": "stdout",
     "output_type": "stream",
     "text": [
      "Model 1 with parameters2\n",
      "Fitting 3 folds for each of 4 candidates, totalling 12 fits\n"
     ]
    },
    {
     "name": "stderr",
     "output_type": "stream",
     "text": [
      "[Parallel(n_jobs=4)]: Using backend LokyBackend with 4 concurrent workers.\n",
      "[Parallel(n_jobs=4)]: Done  12 out of  12 | elapsed:  9.0min finished\n"
     ]
    },
    {
     "name": "stdout",
     "output_type": "stream",
     "text": [
      "0.8563174742848063\n",
      "{'C': 10, 'kernel': 'linear'}\n"
     ]
    }
   ],
   "source": [
    "# Gamma is only used with rbf, poly and sigmoid kernels\n",
    "parameters1 = {'C': [0.1, 1, 10, 100], \n",
    "              'gamma': [10, 1, 0.1, 0.01, 0.001, 0.0001, 'scale', 'auto'],\n",
    "              'kernel': ['rbf', 'poly', 'sigmoid']\n",
    "              }\n",
    "\n",
    "# Kernels that do not use gamma\n",
    "parameters2 = {'C': [0.1, 1, 10, 100], \n",
    "              'kernel': ['linear']\n",
    "              } \n",
    "\n",
    "def get_best_parameters(parameters, train, test):\n",
    "    clf = GridSearchCV(\n",
    "        SVC(), parameters, cv=3, scoring='f1', n_jobs=4, verbose=True\n",
    "    )\n",
    "    clf.fit(train, test)\n",
    "    print(clf.best_score_)\n",
    "    print(clf.best_params_)\n",
    "\n",
    "\n",
    "print(\"Model 1 with parameters2\")\n",
    "get_best_parameters(parameters2, X_train_text_no_hashtag_df, y_train)"
   ]
  },
  {
   "cell_type": "code",
   "execution_count": null,
   "metadata": {},
   "outputs": [],
   "source": [
    "print(\"Model 1 with parameters1\")\n",
    "get_best_parameters(parameters1, X_train_text_no_hashtag_df, y_train)\n",
    "\n",
    "print(\"Model 2 with parameters1\")\n",
    "get_best_parameters(parameters1, X_train_text_df, y_train)\n",
    "print(\"Model 2 with parameters2\")\n",
    "get_best_parameters(parameters2, X_train_text_df, y_train)\n",
    "\n",
    "print(\"Model 3 with parameters1\")\n",
    "get_best_parameters(parameters1, train_data_1, y_train)\n",
    "print(\"Model 3 with parameters2\")\n",
    "get_best_parameters(parameters2, train_data_1, y_train)\n",
    "\n",
    "print(\"Model 4 with parameters1\")\n",
    "get_best_parameters(parameters1, train_data_2, y_train)\n",
    "print(\"Model 4 with parameters2\")\n",
    "get_best_parameters(parameters2, train_data_2, y_train)"
   ]
  },
  {
   "cell_type": "code",
   "execution_count": 150,
   "metadata": {
    "scrolled": true
   },
   "outputs": [
    {
     "name": "stderr",
     "output_type": "stream",
     "text": [
      "[Parallel(n_jobs=4)]: Using backend LokyBackend with 4 concurrent workers.\n",
      "[Parallel(n_jobs=4)]: Done  20 out of  20 | elapsed:   11.0s finished\n",
      "[Parallel(n_jobs=4)]: Using backend LokyBackend with 4 concurrent workers.\n"
     ]
    },
    {
     "name": "stdout",
     "output_type": "stream",
     "text": [
      "Model trained on text of the tweet without hashtag\n",
      "Train score:  0.9425585958697186\n",
      "Test score:  0.8551112949394664\n",
      "-----------------------------\n"
     ]
    },
    {
     "name": "stderr",
     "output_type": "stream",
     "text": [
      "[Parallel(n_jobs=4)]: Done  20 out of  20 | elapsed:    9.2s finished\n",
      "[Parallel(n_jobs=4)]: Using backend LokyBackend with 4 concurrent workers.\n"
     ]
    },
    {
     "name": "stdout",
     "output_type": "stream",
     "text": [
      "Model trained on text of the tweet with hashtag as normal text\n",
      "Train score:  0.9449850884913775\n",
      "Test score:  0.8551462520823678\n",
      "-----------------------------\n"
     ]
    },
    {
     "name": "stderr",
     "output_type": "stream",
     "text": [
      "[Parallel(n_jobs=4)]: Done  20 out of  20 | elapsed:   13.1s finished\n",
      "[Parallel(n_jobs=4)]: Using backend LokyBackend with 4 concurrent workers.\n"
     ]
    },
    {
     "name": "stdout",
     "output_type": "stream",
     "text": [
      "Model trained on text of the tweet without hashtag and the image\n",
      "Train score:  0.9586548182909269\n",
      "Test score:  0.8770299720812129\n",
      "-----------------------------\n",
      "Model trained on text of the tweet with hashtag as normal text and the image\n",
      "Train score:  0.9596410998333047\n",
      "Test score:  0.8811388354923668\n",
      "-----------------------------\n"
     ]
    },
    {
     "name": "stderr",
     "output_type": "stream",
     "text": [
      "[Parallel(n_jobs=4)]: Done  20 out of  20 | elapsed:   13.2s finished\n"
     ]
    }
   ],
   "source": [
    "k_fold = KFold(n_splits=10, shuffle=True, random_state=0)\n",
    "clf_svm1 = SVC()\n",
    "scores = cross_validate(clf_svm1, X_train_text_no_hashtag_df, y_train, cv=k_fold, scoring='f1', return_train_score=True, n_jobs=4, verbose=1)\n",
    "\n",
    "print(\"Model trained on text of the tweet without hashtag\")\n",
    "print(\"Train score: \", scores[\"train_score\"].mean())\n",
    "print(\"Test score: \", scores[\"test_score\"].mean())\n",
    "print(\"-----------------------------\")\n",
    "\n",
    "clf_svm2 = SVM()\n",
    "scores = cross_validate(clf_svm2, X_train_text_df, y_train, cv=k_fold, scoring='f1', return_train_score=True, n_jobs=4, verbose=1)\n",
    "\n",
    "print(\"Model trained on text of the tweet with hashtag as normal text\")\n",
    "print(\"Train score: \", scores[\"train_score\"].mean())\n",
    "print(\"Test score: \", scores[\"test_score\"].mean())\n",
    "print(\"-----------------------------\")\n",
    "\n",
    "clf_svm3 = SVM()\n",
    "scores = cross_validate(clf_svm3, train_data_1, y_train, cv=k_fold, scoring='f1', return_train_score=True, n_jobs=4, verbose=1)\n",
    "\n",
    "print(\"Model trained on text of the tweet without hashtag and the image\")\n",
    "print(\"Train score: \", scores[\"train_score\"].mean())\n",
    "print(\"Test score: \", scores[\"test_score\"].mean())\n",
    "print(\"-----------------------------\")\n",
    "\n",
    "clf_svm4 = SVM()\n",
    "scores = cross_validate(clf_svm4, train_data_2, y_train, cv=k_fold, scoring='f1', return_train_score=True, n_jobs=4, verbose=1)\n",
    "\n",
    "print(\"Model trained on text of the tweet with hashtag as normal text and the image\")\n",
    "print(\"Train score: \", scores[\"train_score\"].mean())\n",
    "print(\"Test score: \", scores[\"test_score\"].mean())\n",
    "print(\"-----------------------------\")"
   ]
  },
  {
   "cell_type": "code",
   "execution_count": 172,
   "metadata": {},
   "outputs": [
    {
     "data": {
      "text/plain": [
       "MultinomialNB(alpha=0.01)"
      ]
     },
     "execution_count": 172,
     "metadata": {},
     "output_type": "execute_result"
    }
   ],
   "source": [
    "clf_svm1.fit(X_train_text_no_hashtag_df, y_train)\n",
    "clf_svm2.fit(X_train_text_df, y_train)\n",
    "clf_svm3.fit(train_data_1, y_train)\n",
    "clf_svm4.fit(train_data_2, y_train)"
   ]
  },
  {
   "cell_type": "code",
   "execution_count": 158,
   "metadata": {},
   "outputs": [],
   "source": [
    "# Import the Test data\n",
    "test = pd.read_pickle('~/Documents/Github Repository/early-warning-twitter/Processed datasets/Model data/Test.pkl')\n",
    "\n",
    "X_test = test.loc[:, train.columns != 'has_Incident_Related']\n",
    "y_test = test[['has_Incident_Related']]\n",
    "\n",
    "# Variable with the text of a tweet without hashtags \n",
    "X_test_text_no_hashtag = X_test.loc[:, 'preprocessed_text_no_hashtag']\n",
    "\n",
    "# Variable with the text of a tweet with hashtags as normal text\n",
    "X_test_text = X_test.loc[:, 'preprocessed_text']\n",
    "\n",
    "# Variable with whether a tweet has media (0 or 1)\n",
    "X_test_media = X_test.loc[:, 'has_media'].astype('int')\n",
    "\n",
    "# Response variable, whether the tweet is related to an incident (0 or 1)\n",
    "y_test = y_test.loc[:, 'has_Incident_Related'].astype('int')"
   ]
  },
  {
   "cell_type": "code",
   "execution_count": 159,
   "metadata": {},
   "outputs": [],
   "source": [
    "# Convert X_test_text_no_hashtag into tf-idf vectorized matrix\n",
    "X_test_text_no_hashtag_df = pd.DataFrame(vc_text_no_hashtag.transform(X_test_text_no_hashtag).todense(), columns=vc_text_no_hashtag.get_feature_names())\n",
    "\n",
    "# Convert X_test_text into tf-idf vectorized matrix\n",
    "X_test_text_df = pd.DataFrame(vc_text.transform(X_test_text).todense(), columns=vc_text.get_feature_names())\n",
    "\n",
    "# Reset index for all variables\n",
    "X_test_text_no_hashtag_df.reset_index(inplace=True, drop=True)\n",
    "X_test_text_df.reset_index(inplace=True, drop=True)\n",
    "X_test_media.reset_index(inplace=True, drop=True)\n",
    "\n",
    "test_data_1 = pd.concat([X_test_text_no_hashtag_df, X_test_media], axis=1, ignore_index=True)\n",
    "test_data_2 = pd.concat([X_test_text_df, X_test_media], axis=1, ignore_index=True)"
   ]
  },
  {
   "cell_type": "code",
   "execution_count": 174,
   "metadata": {},
   "outputs": [],
   "source": [
    "def predict_data(model, test_data, test_y):\n",
    "    # predict the new document from the testing dataset\n",
    "    y_pred = model.predict(test_data)\n",
    "\n",
    "    # Predict the probabilities for the testing dataset (necessary for AUC)\n",
    "    y_pred_prob = model.predict_proba(test_data)\n",
    "\n",
    "    # compute the performance measures\n",
    "    score1 = metrics.accuracy_score(test_y, y_pred)\n",
    "    print(\"First model!\")\n",
    "    print(\"accuracy:   %0.3f\" % score1)\n",
    "\n",
    "    print(metrics.classification_report(test_y, y_pred,\n",
    "                                                target_names=['Negative', 'Positive']))\n",
    "\n",
    "    print(\"confusion matrix:\")\n",
    "    print(metrics.confusion_matrix(test_y, y_pred))\n",
    "\n",
    "    print('------------------------------')\n",
    "\n",
    "    from sklearn.metrics import roc_curve\n",
    "    from sklearn.metrics import roc_auc_score\n",
    "    import matplotlib.pyplot as plt\n",
    "\n",
    "    # Only keep probabilities for the positive outcome only\n",
    "    y_pred_prob = y_pred_prob[:, 1]\n",
    "\n",
    "    nb_auc = roc_auc_score(test_y, y_pred_prob)\n",
    "    print('Naive Bayes: ROC AUC=%.3f' % (nb_auc))\n",
    "    nb_fpr, nb_tpr, _ = roc_curve(test_y, y_pred_prob)\n",
    "    plt.plot(nb_fpr, nb_tpr, marker='.', label='Logistic')\n",
    "    # axis labels\n",
    "    plt.xlabel('False Positive Rate')\n",
    "    plt.ylabel('True Positive Rate')\n",
    "    # show the legend\n",
    "    plt.legend()\n",
    "    # show the plot\n",
    "    plt.show()\n",
    "    print(\"-------------------------------------\")"
   ]
  },
  {
   "cell_type": "code",
   "execution_count": 175,
   "metadata": {},
   "outputs": [
    {
     "name": "stdout",
     "output_type": "stream",
     "text": [
      "First model!\n",
      "accuracy:   0.939\n",
      "              precision    recall  f1-score   support\n",
      "\n",
      "    Negative       0.95      0.97      0.96      1014\n",
      "    Positive       0.91      0.86      0.89       382\n",
      "\n",
      "    accuracy                           0.94      1396\n",
      "   macro avg       0.93      0.91      0.92      1396\n",
      "weighted avg       0.94      0.94      0.94      1396\n",
      "\n",
      "confusion matrix:\n",
      "[[983  31]\n",
      " [ 54 328]]\n",
      "------------------------------\n",
      "Naive Bayes: ROC AUC=0.973\n"
     ]
    },
    {
     "data": {
      "image/png": "[encoded data removed]",
      "text/plain": [
       "<Figure size 432x288 with 1 Axes>"
      ]
     },
     "metadata": {
      "needs_background": "light"
     },
     "output_type": "display_data"
    },
    {
     "name": "stdout",
     "output_type": "stream",
     "text": [
      "-------------------------------------\n",
      "First model!\n",
      "accuracy:   0.937\n",
      "              precision    recall  f1-score   support\n",
      "\n",
      "    Negative       0.95      0.97      0.96      1014\n",
      "    Positive       0.90      0.86      0.88       382\n",
      "\n",
      "    accuracy                           0.94      1396\n",
      "   macro avg       0.93      0.91      0.92      1396\n",
      "weighted avg       0.94      0.94      0.94      1396\n",
      "\n",
      "confusion matrix:\n",
      "[[979  35]\n",
      " [ 53 329]]\n",
      "------------------------------\n",
      "Naive Bayes: ROC AUC=0.974\n"
     ]
    },
    {
     "data": {
      "image/png": "[encoded data removed]",
      "text/plain": [
       "<Figure size 432x288 with 1 Axes>"
      ]
     },
     "metadata": {
      "needs_background": "light"
     },
     "output_type": "display_data"
    },
    {
     "name": "stdout",
     "output_type": "stream",
     "text": [
      "-------------------------------------\n",
      "First model!\n",
      "accuracy:   0.950\n",
      "              precision    recall  f1-score   support\n",
      "\n",
      "    Negative       0.96      0.97      0.97      1014\n",
      "    Positive       0.91      0.91      0.91       382\n",
      "\n",
      "    accuracy                           0.95      1396\n",
      "   macro avg       0.94      0.94      0.94      1396\n",
      "weighted avg       0.95      0.95      0.95      1396\n",
      "\n",
      "confusion matrix:\n",
      "[[980  34]\n",
      " [ 36 346]]\n",
      "------------------------------\n",
      "Naive Bayes: ROC AUC=0.981\n"
     ]
    },
    {
     "data": {
      "image/png": "[encoded data removed]",
      "text/plain": [
       "<Figure size 432x288 with 1 Axes>"
      ]
     },
     "metadata": {
      "needs_background": "light"
     },
     "output_type": "display_data"
    },
    {
     "name": "stdout",
     "output_type": "stream",
     "text": [
      "-------------------------------------\n",
      "First model!\n",
      "accuracy:   0.946\n",
      "              precision    recall  f1-score   support\n",
      "\n",
      "    Negative       0.96      0.96      0.96      1014\n",
      "    Positive       0.90      0.90      0.90       382\n",
      "\n",
      "    accuracy                           0.95      1396\n",
      "   macro avg       0.93      0.93      0.93      1396\n",
      "weighted avg       0.95      0.95      0.95      1396\n",
      "\n",
      "confusion matrix:\n",
      "[[977  37]\n",
      " [ 38 344]]\n",
      "------------------------------\n",
      "Naive Bayes: ROC AUC=0.981\n"
     ]
    },
    {
     "data": {
      "image/png": "[encoded data removed]",
      "text/plain": [
       "<Figure size 432x288 with 1 Axes>"
      ]
     },
     "metadata": {
      "needs_background": "light"
     },
     "output_type": "display_data"
    },
    {
     "name": "stdout",
     "output_type": "stream",
     "text": [
      "-------------------------------------\n"
     ]
    }
   ],
   "source": [
    "datasets = [X_test_text_no_hashtag_df, X_test_text_df, test_data_1, test_data_2]\n",
    "\n",
    "predict_data(clf_svm1, X_test_text_no_hashtag_df, y_test)\n",
    "predict_data(clf_svm2, X_test_text_df, y_test)\n",
    "predict_data(clf_svm3, test_data_1, y_test)\n",
    "predict_data(clf_svm4, test_data_2, y_test)"
   ]
  },
  {
   "cell_type": "code",
   "execution_count": 191,
   "metadata": {},
   "outputs": [],
   "source": [
    "# Save models\n",
    "pickle.dump(clf_nb1, open('Models/support-vector-machines-1.sav', 'wb'))\n",
    "pickle.dump(clf_nb2, open('Models/support-vector-machines-2.sav', 'wb'))\n",
    "pickle.dump(clf_nb3, open('Models/support-vector-machines-3.sav', 'wb'))\n",
    "pickle.dump(clf_nb4, open('Models/support-vector-machines-4.sav', 'wb'))"
   ]
  },
  {
   "cell_type": "code",
   "execution_count": null,
   "metadata": {},
   "outputs": [],
   "source": []
  }
 ],
 "metadata": {
  "kernelspec": {
   "display_name": "Python 3",
   "language": "python",
   "name": "python3"
  },
  "language_info": {
   "codemirror_mode": {
    "name": "ipython",
    "version": 3
   },
   "file_extension": ".py",
   "mimetype": "text/x-python",
   "name": "python",
   "nbconvert_exporter": "python",
   "pygments_lexer": "ipython3",
   "version": "3.8.3"
  }
 },
 "nbformat": 4,
 "nbformat_minor": 4
}
