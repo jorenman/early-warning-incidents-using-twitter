{
 "cells": [
  {
   "cell_type": "code",
   "execution_count": null,
   "metadata": {},
   "outputs": [],
   "source": [
    "import pandas as pd\n",
    "from sklearn import metrics\n",
    "from sklearn.feature_extraction.text import TfidfVectorizer\n",
    "from sklearn.svm import SVC\n",
    "from sklearn.model_selection import KFold, cross_validate, GridSearchCV\n",
    "import pickle\n",
    "from sklearn.metrics import confusion_matrix, classification_report, roc_curve, roc_auc_score\n",
    "import matplotlib.pyplot as plt"
   ]
  },
  {
   "cell_type": "markdown",
   "metadata": {},
   "source": [
    "# Import data and set variables"
   ]
  },
  {
   "cell_type": "code",
   "execution_count": 2,
   "metadata": {},
   "outputs": [],
   "source": [
    "# Import data\n",
    "train = pd.read_pickle('~/Documents/Github Repository/early-warning-twitter/Processed datasets/Model data/Train.pkl')\n",
    "\n",
    "# Split up in X and y columns\n",
    "X_train = train.loc[:, train.columns != 'has_Incident_Related']\n",
    "y_train = train[['has_Incident_Related']]\n",
    "\n",
    "# Variable with the text of a tweet without hashtags \n",
    "X_train_text_no_hashtag = X_train.loc[:, 'preprocessed_text_no_hashtag']\n",
    "\n",
    "# Variable with the text of a tweet with hashtags as normal text\n",
    "X_train_text = X_train.loc[:, 'preprocessed_text']\n",
    "\n",
    "# Response variable, whether the tweet is related to an incident (0 or 1)\n",
    "y_train = y_train.loc[:, 'has_Incident_Related'].astype('int')"
   ]
  },
  {
   "cell_type": "markdown",
   "metadata": {},
   "source": [
    "# Convert text data into tf-idf"
   ]
  },
  {
   "cell_type": "code",
   "execution_count": 3,
   "metadata": {},
   "outputs": [],
   "source": [
    "# Convert X_train_text_no_hashtag into tf-idf vectorized matrix\n",
    "vc_text_no_hashtag = TfidfVectorizer().fit(X_train_text_no_hashtag)\n",
    "X_train_text_no_hashtag_df = pd.DataFrame(vc_text_no_hashtag.transform(X_train_text_no_hashtag).todense(), columns=vc_text_no_hashtag.get_feature_names())\n",
    "\n",
    "# Convert X_train_text into tf-idf vectorized matrix\n",
    "vc_text = TfidfVectorizer().fit(X_train_text)\n",
    "X_train_text_df = pd.DataFrame(vc_text.transform(X_train_text).todense(), columns=vc_text.get_feature_names())"
   ]
  },
  {
   "cell_type": "code",
   "execution_count": 4,
   "metadata": {},
   "outputs": [],
   "source": [
    "# Reset index for all variables\n",
    "X_train_text_no_hashtag_df.reset_index(inplace=True, drop=True)\n",
    "X_train_text_df.reset_index(inplace=True, drop=True)"
   ]
  },
  {
   "cell_type": "code",
   "execution_count": 34,
   "metadata": {},
   "outputs": [],
   "source": [
    "# Gamma is only used with rbf, poly and sigmoid kernels\n",
    "parameters1 = {'C': [0.1, 1, 10, 100], \n",
    "              'gamma': [10, 1, 0.1, 0.01, 0.001, 0.0001, 'scale', 'auto'],\n",
    "              'kernel': ['rbf', 'poly', 'sigmoid']\n",
    "              }\n",
    "\n",
    "# Kernels that do not use gamma\n",
    "parameters2 = {'C': [0.1, 1, 10, 100], \n",
    "              'kernel': ['linear']\n",
    "              }\n",
    "\n",
    "def get_best_parameters(parameters, train, test):\n",
    "    clf = GridSearchCV(\n",
    "        SVC(), parameters, cv=3, scoring='f1', n_jobs=4, verbose=True\n",
    "    )\n",
    "    clf.fit(train, test)\n",
    "    print(clf.best_score_)\n",
    "    print(clf.best_params_)"
   ]
  },
  {
   "cell_type": "code",
   "execution_count": 21,
   "metadata": {},
   "outputs": [
    {
     "name": "stdout",
     "output_type": "stream",
     "text": [
      "Model 1 with parameters1\n",
      "Fitting 3 folds for each of 96 candidates, totalling 288 fits\n",
      "0.887210695306651\n",
      "{'C': 100, 'gamma': 1, 'kernel': 'rbf'}\n"
     ]
    }
   ],
   "source": [
    "print(\"Model 1 with parameters1\")\n",
    "get_best_parameters(parameters1, X_train_text_no_hashtag_df, y_train)\n",
    "\n",
    "# Result best_score = 0.887210695306651\n",
    "# Result best params = {'C': 100, 'gamma': 1, 'kernel': 'rbf'}"
   ]
  },
  {
   "cell_type": "code",
   "execution_count": 22,
   "metadata": {},
   "outputs": [
    {
     "name": "stdout",
     "output_type": "stream",
     "text": [
      "Model 1 with parameters2\n",
      "Fitting 3 folds for each of 4 candidates, totalling 12 fits\n",
      "0.8563174742848063\n",
      "{'C': 10, 'kernel': 'linear'}\n"
     ]
    }
   ],
   "source": [
    "print(\"Model 1 with parameters2\")\n",
    "get_best_parameters(parameters2, X_train_text_no_hashtag_df, y_train)\n",
    "\n",
    "# Result best_score = 0.8563174742848063\n",
    "# Result best params = {'C': 10, 'kernel': 'linear'}"
   ]
  },
  {
   "cell_type": "code",
   "execution_count": 23,
   "metadata": {},
   "outputs": [
    {
     "name": "stdout",
     "output_type": "stream",
     "text": [
      "Model 2 with parameters1\n",
      "Fitting 3 folds for each of 96 candidates, totalling 288 fits\n",
      "0.8932724867888974\n",
      "{'C': 100, 'gamma': 1, 'kernel': 'rbf'}\n"
     ]
    }
   ],
   "source": [
    "print(\"Model 2 with parameters1\")\n",
    "get_best_parameters(parameters1, X_train_text_df, y_train)\n",
    "\n",
    "# Result best_score = 0.8932724867888974\n",
    "# Result best_params = {'C': 100, 'gamma': 1, 'kernel': 'rbf'}"
   ]
  },
  {
   "cell_type": "code",
   "execution_count": 24,
   "metadata": {},
   "outputs": [
    {
     "name": "stdout",
     "output_type": "stream",
     "text": [
      "Model 2 with parameters2\n",
      "Fitting 3 folds for each of 4 candidates, totalling 12 fits\n",
      "0.860880353904688\n",
      "{'C': 10, 'kernel': 'linear'}\n"
     ]
    }
   ],
   "source": [
    "print(\"Model 2 with parameters2\")\n",
    "get_best_parameters(parameters2, X_train_text_df, y_train)\n",
    "\n",
    "# Result best_score = 0.860880353904688\n",
    "# Result best_params = {'C': 10, 'kernel': 'linear'}"
   ]
  },
  {
   "cell_type": "code",
   "execution_count": 10,
   "metadata": {
    "scrolled": true
   },
   "outputs": [
    {
     "name": "stderr",
     "output_type": "stream",
     "text": [
      "[Parallel(n_jobs=4)]: Using backend LokyBackend with 4 concurrent workers.\n"
     ]
    },
    {
     "name": "stdout",
     "output_type": "stream",
     "text": [
      "Model trained on text of the tweet without hashtag\n",
      "Train score:  0.9974161491291064\n",
      "Test score:  0.9112959177639445\n",
      "-----------------------------\n"
     ]
    },
    {
     "name": "stderr",
     "output_type": "stream",
     "text": [
      "[Parallel(n_jobs=4)]: Done  10 out of  10 | elapsed: 31.2min finished\n",
      "[Parallel(n_jobs=4)]: Using backend LokyBackend with 4 concurrent workers.\n"
     ]
    },
    {
     "name": "stdout",
     "output_type": "stream",
     "text": [
      "Model trained on text of the tweet with hashtag as normal text\n",
      "Train score:  0.9977441956988266\n",
      "Test score:  0.9138555485390885\n",
      "-----------------------------\n"
     ]
    },
    {
     "name": "stderr",
     "output_type": "stream",
     "text": [
      "[Parallel(n_jobs=4)]: Done  10 out of  10 | elapsed: 35.2min finished\n"
     ]
    }
   ],
   "source": [
    "k_fold = KFold(n_splits=10, shuffle=True, random_state=0)\n",
    "clf_svm1 = SVC(C=100, gamma=1, kernel='rbf')\n",
    "scores = cross_validate(clf_svm1, X_train_text_no_hashtag_df, y_train, cv=k_fold, scoring='f1', return_train_score=True, n_jobs=4, verbose=1)\n",
    "\n",
    "print(\"Model trained on text of the tweet without hashtag\")\n",
    "print(\"Train score: \", scores[\"train_score\"].mean())\n",
    "print(\"Test score: \", scores[\"test_score\"].mean())\n",
    "print(\"-----------------------------\")\n",
    "\n",
    "clf_svm2 = SVC(C=100, gamma=1, kernel='rbf')\n",
    "scores = cross_validate(clf_svm2, X_train_text_df, y_train, cv=k_fold, scoring='f1', return_train_score=True, n_jobs=4, verbose=1)\n",
    "\n",
    "print(\"Model trained on text of the tweet with hashtag as normal text\")\n",
    "print(\"Train score: \", scores[\"train_score\"].mean())\n",
    "print(\"Test score: \", scores[\"test_score\"].mean())\n",
    "print(\"-----------------------------\")"
   ]
  },
  {
   "cell_type": "code",
   "execution_count": 7,
   "metadata": {},
   "outputs": [
    {
     "data": {
      "text/plain": [
       "SVC(C=100, gamma=1, probability=True)"
      ]
     },
     "execution_count": 7,
     "metadata": {},
     "output_type": "execute_result"
    }
   ],
   "source": [
    "clf_svm1.fit(X_train_text_no_hashtag_df, y_train)\n",
    "clf_svm2.fit(X_train_text_df, y_train)\n",
    "\n",
    "# Get probabilistic models and train them on the data (needed for AUC)\n",
    "clf_svm1_prob = SVC(C=100, gamma=1, kernel='rbf', probability=True)\n",
    "clf_svm2_prob = SVC(C=100, gamma=1, kernel='rbf', probability=True)\n",
    "\n",
    "clf_svm1_prob.fit(X_train_text_no_hashtag_df, y_train)\n",
    "clf_svm2_prob.fit(X_train_text_df, y_train)"
   ]
  },
  {
   "cell_type": "code",
   "execution_count": 10,
   "metadata": {},
   "outputs": [],
   "source": [
    "# Save models\n",
    "pickle.dump(clf_svm1, open('support-vector-machines-1.sav', 'wb'))\n",
    "pickle.dump(clf_svm1_prob, open('support-vector-machines-1-prob.sav', 'wb'))\n",
    "pickle.dump(clf_svm2, open('support-vector-machines-2.sav', 'wb'))\n",
    "pickle.dump(clf_svm2_prob, open('support-vector-machines-2-prob.sav', 'wb'))"
   ]
  },
  {
   "cell_type": "code",
   "execution_count": 5,
   "metadata": {},
   "outputs": [],
   "source": [
    "# Load models\n",
    "clf_svm1 = pickle.load(open('Models/support-vector-machines-1.sav', 'rb'))\n",
    "clf_svm1_prob = pickle.load(open('Models/support-vector-machines-1-prob.sav', 'rb'))\n",
    "clf_svm2 = pickle.load(open('Models/support-vector-machines-2.sav', 'rb'))\n",
    "clf_svm2_prob = pickle.load(open('Models/support-vector-machines-2-prob.sav', 'rb'))"
   ]
  },
  {
   "cell_type": "code",
   "execution_count": 6,
   "metadata": {},
   "outputs": [],
   "source": [
    "# Import the Test data\n",
    "test = pd.read_pickle('~/Documents/Github Repository/early-warning-twitter/Processed datasets/Model data/Test.pkl')\n",
    "\n",
    "X_test = test.loc[:, test.columns != 'has_Incident_Related']\n",
    "y_test = test[['has_Incident_Related']]\n",
    "\n",
    "# Variable with the text of a tweet without hashtags \n",
    "X_test_text_no_hashtag = X_test.loc[:, 'preprocessed_text_no_hashtag']\n",
    "\n",
    "# Variable with the text of a tweet with hashtags as normal text\n",
    "X_test_text = X_test.loc[:, 'preprocessed_text']\n",
    "\n",
    "# Response variable, whether the tweet is related to an incident (0 or 1)\n",
    "y_test = y_test.loc[:, 'has_Incident_Related'].astype('int')"
   ]
  },
  {
   "cell_type": "code",
   "execution_count": 7,
   "metadata": {},
   "outputs": [],
   "source": [
    "# Convert X_test_text_no_hashtag into tf-idf vectorized matrix\n",
    "X_test_text_no_hashtag_df = pd.DataFrame(vc_text_no_hashtag.transform(X_test_text_no_hashtag).todense(), columns=vc_text_no_hashtag.get_feature_names())\n",
    "\n",
    "# Convert X_test_text into tf-idf vectorized matrix\n",
    "X_test_text_df = pd.DataFrame(vc_text.transform(X_test_text).todense(), columns=vc_text.get_feature_names())\n",
    "\n",
    "# Reset index for all variables\n",
    "X_test_text_no_hashtag_df.reset_index(inplace=True, drop=True)\n",
    "X_test_text_df.reset_index(inplace=True, drop=True)"
   ]
  },
  {
   "cell_type": "code",
   "execution_count": 8,
   "metadata": {},
   "outputs": [],
   "source": [
    "def predict_data(model, model2, test_data, test_y):\n",
    "    # predict the new document from the testing dataset\n",
    "    y_pred = model.predict(test_data)\n",
    "\n",
    "    # Predict the probabilities for the testing dataset (necessary for AUC)\n",
    "    y_pred_prob = model2.predict_proba(test_data)\n",
    "\n",
    "    # compute the performance measures\n",
    "    score1 = metrics.accuracy_score(test_y, y_pred)\n",
    "    print(\"accuracy:   %0.3f\" % score1)\n",
    "\n",
    "    print(metrics.classification_report(test_y, y_pred,\n",
    "                                                target_names=['Negative', 'Positive'], digits=3))\n",
    "\n",
    "    print(\"confusion matrix:\")\n",
    "    print(metrics.confusion_matrix(test_y, y_pred))\n",
    "\n",
    "    print('------------------------------')\n",
    "\n",
    "    # Only keep probabilities for the positive outcome only\n",
    "    y_pred_prob = y_pred_prob[:, 1]\n",
    "\n",
    "    svm_auc = roc_auc_score(test_y, y_pred_prob)\n",
    "    print('Support vector machines: ROC AUC=%.3f' % (svm_auc))\n",
    "    nb_fpr, nb_tpr, _ = roc_curve(test_y, y_pred_prob)\n",
    "    plt.plot(nb_fpr, nb_tpr, marker='.', label='Support vector machines')\n",
    "    # axis labels\n",
    "    plt.xlabel('False Positive Rate')\n",
    "    plt.ylabel('True Positive Rate')\n",
    "    # show the legend\n",
    "    plt.legend()\n",
    "    # show the plot\n",
    "    plt.show()\n",
    "    print(\"-------------------------------------\")"
   ]
  },
  {
   "cell_type": "code",
   "execution_count": 9,
   "metadata": {},
   "outputs": [
    {
     "name": "stdout",
     "output_type": "stream",
     "text": [
      "accuracy:   0.955\n",
      "              precision    recall  f1-score   support\n",
      "\n",
      "    Negative      0.958     0.981     0.969      1014\n",
      "    Positive      0.947     0.885     0.915       382\n",
      "\n",
      "    accuracy                          0.955      1396\n",
      "   macro avg      0.952     0.933     0.942      1396\n",
      "weighted avg      0.955     0.955     0.954      1396\n",
      "\n",
      "confusion matrix:\n",
      "[[995  19]\n",
      " [ 44 338]]\n",
      "------------------------------\n",
      "Support vector machines: ROC AUC=0.975\n"
     ]
    },
    {
     "data": {
      "image/png": "[encoded data removed]",
      "text/plain": [
       "<Figure size 432x288 with 1 Axes>"
      ]
     },
     "metadata": {
      "needs_background": "light"
     },
     "output_type": "display_data"
    },
    {
     "name": "stdout",
     "output_type": "stream",
     "text": [
      "-------------------------------------\n",
      "accuracy:   0.954\n",
      "              precision    recall  f1-score   support\n",
      "\n",
      "    Negative      0.959     0.978     0.969      1014\n",
      "    Positive      0.939     0.890     0.914       382\n",
      "\n",
      "    accuracy                          0.954      1396\n",
      "   macro avg      0.949     0.934     0.941      1396\n",
      "weighted avg      0.954     0.954     0.954      1396\n",
      "\n",
      "confusion matrix:\n",
      "[[992  22]\n",
      " [ 42 340]]\n",
      "------------------------------\n",
      "Support vector machines: ROC AUC=0.977\n"
     ]
    },
    {
     "data": {
      "image/png": "[encoded data removed]",
      "text/plain": [
       "<Figure size 432x288 with 1 Axes>"
      ]
     },
     "metadata": {
      "needs_background": "light"
     },
     "output_type": "display_data"
    },
    {
     "name": "stdout",
     "output_type": "stream",
     "text": [
      "-------------------------------------\n"
     ]
    }
   ],
   "source": [
    "predict_data(clf_svm1, clf_svm1_prob, X_test_text_no_hashtag_df, y_test)\n",
    "predict_data(clf_svm2, clf_svm2_prob, X_test_text_df, y_test)"
   ]
  }
 ],
 "metadata": {
  "environment": {
   "name": "common-cpu.m69",
   "type": "gcloud",
   "uri": "gcr.io/deeplearning-platform-release/base-cpu:m69"
  },
  "kernelspec": {
   "display_name": "Python 3",
   "language": "python",
   "name": "python3"
  },
  "language_info": {
   "codemirror_mode": {
    "name": "ipython",
    "version": 3
   },
   "file_extension": ".py",
   "mimetype": "text/x-python",
   "name": "python",
   "nbconvert_exporter": "python",
   "pygments_lexer": "ipython3",
   "version": "3.8.3"
  }
 },
 "nbformat": 4,
 "nbformat_minor": 4
}
