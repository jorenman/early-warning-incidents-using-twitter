{
 "cells": [
  {
   "cell_type": "code",
   "execution_count": 1,
   "metadata": {},
   "outputs": [],
   "source": [
    "import pandas as pd\n",
    "from sklearn import metrics\n",
    "from sklearn.feature_extraction.text import TfidfVectorizer\n",
    "from sklearn.naive_bayes import MultinomialNB\n",
    "from sklearn.model_selection import KFold, cross_validate, GridSearchCV\n",
    "import pickle\n",
    "from sklearn.metrics import roc_curve, roc_auc_score\n",
    "import matplotlib.pyplot as plt"
   ]
  },
  {
   "cell_type": "markdown",
   "metadata": {},
   "source": [
    "# Import data and set variables"
   ]
  },
  {
   "cell_type": "code",
   "execution_count": 2,
   "metadata": {},
   "outputs": [],
   "source": [
    "# Import data\n",
    "train = pd.read_pickle('~/Documents/Github Repository/early-warning-twitter/Processed datasets/Model data/Train.pkl')\n",
    "\n",
    "# Split up in X and y columns\n",
    "X_train = train.loc[:, train.columns != 'has_Incident_Related']\n",
    "y_train = train[['has_Incident_Related']]\n",
    "\n",
    "# Variable with the text of a tweet without hashtags \n",
    "X_train_text_no_hashtag = X_train.loc[:, 'preprocessed_text_no_hashtag']\n",
    "\n",
    "# Variable with the text of a tweet with hashtags as normal text\n",
    "X_train_text = X_train.loc[:, 'preprocessed_text']\n",
    "\n",
    "# Response variable, whether the tweet is related to an incident (0 or 1)\n",
    "y_train = y_train.loc[:, 'has_Incident_Related'].astype('int')"
   ]
  },
  {
   "cell_type": "markdown",
   "metadata": {},
   "source": [
    "# Convert text data into tf-idf"
   ]
  },
  {
   "cell_type": "code",
   "execution_count": 3,
   "metadata": {},
   "outputs": [],
   "source": [
    "# Convert X_train_text_no_hashtag into tf-idf vectorized matrix\n",
    "vc_text_no_hashtag = TfidfVectorizer().fit(X_train_text_no_hashtag)\n",
    "X_train_text_no_hashtag_df = pd.DataFrame(vc_text_no_hashtag.transform(X_train_text_no_hashtag).todense(), columns=vc_text_no_hashtag.get_feature_names())\n",
    "\n",
    "# Convert X_train_text into tf-idf vectorized matrix\n",
    "vc_text = TfidfVectorizer().fit(X_train_text)\n",
    "X_train_text_df = pd.DataFrame(vc_text.transform(X_train_text).todense(), columns=vc_text.get_feature_names())"
   ]
  },
  {
   "cell_type": "code",
   "execution_count": 4,
   "metadata": {},
   "outputs": [],
   "source": [
    "# Reset index for all variables\n",
    "X_train_text_no_hashtag_df.reset_index(inplace=True, drop=True)\n",
    "X_train_text_df.reset_index(inplace=True, drop=True)"
   ]
  },
  {
   "cell_type": "code",
   "execution_count": 6,
   "metadata": {},
   "outputs": [
    {
     "name": "stdout",
     "output_type": "stream",
     "text": [
      "{'alpha': 0.01}\n",
      "{'alpha': 0.01}\n"
     ]
    }
   ],
   "source": [
    "parameters = [{'alpha': [1, 0.5, 0.1, 0.05, 0.01]}]\n",
    "\n",
    "def get_best_parameters(parameters, train, test):\n",
    "    clf = GridSearchCV(\n",
    "        MultinomialNB(), parameters, cv=3, scoring='f1', n_jobs=4\n",
    "    )\n",
    "    clf.fit(train, test)\n",
    "    print(clf.best_params_)\n",
    "    \n",
    "get_best_parameters(parameters, X_train_text_no_hashtag_df, y_train)\n",
    "# Result alpha = 0.01\n",
    "\n",
    "get_best_parameters(parameters, X_train_text_df, y_train)\n",
    "# Result alpha = 0.01"
   ]
  },
  {
   "cell_type": "code",
   "execution_count": 7,
   "metadata": {
    "scrolled": true
   },
   "outputs": [
    {
     "name": "stderr",
     "output_type": "stream",
     "text": [
      "[Parallel(n_jobs=4)]: Using backend LokyBackend with 4 concurrent workers.\n",
      "[Parallel(n_jobs=4)]: Done  10 out of  10 | elapsed:    4.4s finished\n",
      "[Parallel(n_jobs=4)]: Using backend LokyBackend with 4 concurrent workers.\n"
     ]
    },
    {
     "name": "stdout",
     "output_type": "stream",
     "text": [
      "Model trained on text of the tweet without hashtag\n",
      "Train score:  0.9435684975035645\n",
      "Test score:  0.8453218792542112\n",
      "-----------------------------\n",
      "Model trained on text of the tweet with hashtag as normal text\n",
      "Train score:  0.9458058289368789\n",
      "Test score:  0.8502204758685489\n",
      "-----------------------------\n"
     ]
    },
    {
     "name": "stderr",
     "output_type": "stream",
     "text": [
      "[Parallel(n_jobs=4)]: Done  10 out of  10 | elapsed:    4.5s finished\n"
     ]
    }
   ],
   "source": [
    "k_fold = KFold(n_splits=10, shuffle=True, random_state=0)\n",
    "clf_nb1 = MultinomialNB(alpha=0.01)\n",
    "scores1 = cross_validate(clf_nb1, X_train_text_no_hashtag_df, y_train, cv=k_fold, scoring='f1', return_train_score=True, n_jobs=4, verbose=1)\n",
    "\n",
    "print(\"Model trained on text of the tweet without hashtag\")\n",
    "print(\"Train score: \", scores1[\"train_score\"].mean())\n",
    "print(\"Test score: \", scores1[\"test_score\"].mean())\n",
    "print(\"-----------------------------\")\n",
    "\n",
    "clf_nb2 = MultinomialNB(alpha=0.01)\n",
    "scores2 = cross_validate(clf_nb2, X_train_text_df, y_train, cv=k_fold, scoring='f1', return_train_score=True, n_jobs=4, verbose=1)\n",
    "\n",
    "print(\"Model trained on text of the tweet with hashtag as normal text\")\n",
    "print(\"Train score: \", scores2[\"train_score\"].mean())\n",
    "print(\"Test score: \", scores2[\"test_score\"].mean())\n",
    "print(\"-----------------------------\")"
   ]
  },
  {
   "cell_type": "code",
   "execution_count": 8,
   "metadata": {},
   "outputs": [
    {
     "data": {
      "text/plain": [
       "MultinomialNB(alpha=0.01)"
      ]
     },
     "execution_count": 8,
     "metadata": {},
     "output_type": "execute_result"
    }
   ],
   "source": [
    "clf_nb1.fit(X_train_text_no_hashtag_df, y_train)\n",
    "clf_nb2.fit(X_train_text_df, y_train)"
   ]
  },
  {
   "cell_type": "code",
   "execution_count": 16,
   "metadata": {},
   "outputs": [],
   "source": [
    "# Save models\n",
    "pickle.dump(clf_nb1, open('Models/naive-bayes-1.sav', 'wb'))\n",
    "pickle.dump(clf_nb2, open('Models/naive-bayes-2.sav', 'wb'))"
   ]
  },
  {
   "cell_type": "code",
   "execution_count": 9,
   "metadata": {},
   "outputs": [],
   "source": [
    "# Load models\n",
    "clf_nb1 = pickle.load(open('Models/naive-bayes-1.sav', 'rb'))\n",
    "clf_nb2 = pickle.load(open('Models/naive-bayes-2.sav', 'rb'))"
   ]
  },
  {
   "cell_type": "code",
   "execution_count": 10,
   "metadata": {},
   "outputs": [],
   "source": [
    "# Import the Test data\n",
    "test = pd.read_pickle('~/Documents/Github Repository/early-warning-twitter/Processed datasets/Model data/Test.pkl')\n",
    "\n",
    "X_test = test.loc[:, test.columns != 'has_Incident_Related']\n",
    "y_test = test[['has_Incident_Related']]\n",
    "\n",
    "# Variable with the text of a tweet without hashtags \n",
    "X_test_text_no_hashtag = X_test.loc[:, 'preprocessed_text_no_hashtag']\n",
    "\n",
    "# Variable with the text of a tweet with hashtags as normal text\n",
    "X_test_text = X_test.loc[:, 'preprocessed_text']\n",
    "\n",
    "# Response variable, whether the tweet is related to an incident (0 or 1)\n",
    "y_test = y_test.loc[:, 'has_Incident_Related'].astype('int')"
   ]
  },
  {
   "cell_type": "code",
   "execution_count": 11,
   "metadata": {},
   "outputs": [],
   "source": [
    "# Convert X_test_text_no_hashtag into tf-idf vectorized matrix\n",
    "X_test_text_no_hashtag_df = pd.DataFrame(vc_text_no_hashtag.transform(X_test_text_no_hashtag).todense(), columns=vc_text_no_hashtag.get_feature_names())\n",
    "\n",
    "# Convert X_test_text into tf-idf vectorized matrix\n",
    "X_test_text_df = pd.DataFrame(vc_text.transform(X_test_text).todense(), columns=vc_text.get_feature_names())\n",
    "\n",
    "# Reset index for all variables\n",
    "X_test_text_no_hashtag_df.reset_index(inplace=True, drop=True)\n",
    "X_test_text_df.reset_index(inplace=True, drop=True)"
   ]
  },
  {
   "cell_type": "code",
   "execution_count": 15,
   "metadata": {},
   "outputs": [],
   "source": [
    "def predict_data(model, test_data, test_y):\n",
    "    # predict the new document from the testing dataset\n",
    "    y_pred = model.predict(test_data)\n",
    "\n",
    "    # Predict the probabilities for the testing dataset (necessary for AUC)\n",
    "    y_pred_prob = model.predict_proba(test_data)\n",
    "\n",
    "    # compute the performance measures\n",
    "    score1 = metrics.accuracy_score(test_y, y_pred)\n",
    "    print(\"accuracy:   %0.3f\" % score1)\n",
    "\n",
    "    print(metrics.classification_report(test_y, y_pred,\n",
    "                                                target_names=['Negative', 'Positive'], digits=3))\n",
    "\n",
    "    print(\"confusion matrix:\")\n",
    "    print(metrics.confusion_matrix(test_y, y_pred))\n",
    "\n",
    "    print('------------------------------')\n",
    "\n",
    "    # Only keep probabilities for the positive outcome only\n",
    "    y_pred_prob = y_pred_prob[:, 1]\n",
    "\n",
    "    nb_auc = roc_auc_score(test_y, y_pred_prob)\n",
    "    print('Naive Bayes: ROC AUC=%.3f' % (nb_auc))\n",
    "    nb_fpr, nb_tpr, _ = roc_curve(test_y, y_pred_prob)\n",
    "    plt.plot(nb_fpr, nb_tpr, marker='.', label='Naive Bayes')\n",
    "    # axis labels\n",
    "    plt.xlabel('False Positive Rate')\n",
    "    plt.ylabel('True Positive Rate')\n",
    "    # show the legend\n",
    "    plt.legend()\n",
    "    # show the plot\n",
    "    plt.show()\n",
    "    print(\"-------------------------------------\")"
   ]
  },
  {
   "cell_type": "code",
   "execution_count": 16,
   "metadata": {},
   "outputs": [
    {
     "name": "stdout",
     "output_type": "stream",
     "text": [
      "accuracy:   0.939\n",
      "              precision    recall  f1-score   support\n",
      "\n",
      "    Negative      0.948     0.969     0.959      1014\n",
      "    Positive      0.914     0.859     0.885       382\n",
      "\n",
      "    accuracy                          0.939      1396\n",
      "   macro avg      0.931     0.914     0.922      1396\n",
      "weighted avg      0.939     0.939     0.939      1396\n",
      "\n",
      "confusion matrix:\n",
      "[[983  31]\n",
      " [ 54 328]]\n",
      "------------------------------\n",
      "Naive Bayes: ROC AUC=0.973\n"
     ]
    },
    {
     "data": {
      "image/png": "[encoded data removed]",
      "text/plain": [
       "<Figure size 432x288 with 1 Axes>"
      ]
     },
     "metadata": {
      "needs_background": "light"
     },
     "output_type": "display_data"
    },
    {
     "name": "stdout",
     "output_type": "stream",
     "text": [
      "-------------------------------------\n",
      "accuracy:   0.937\n",
      "              precision    recall  f1-score   support\n",
      "\n",
      "    Negative      0.949     0.965     0.957      1014\n",
      "    Positive      0.904     0.861     0.882       382\n",
      "\n",
      "    accuracy                          0.937      1396\n",
      "   macro avg      0.926     0.913     0.920      1396\n",
      "weighted avg      0.936     0.937     0.936      1396\n",
      "\n",
      "confusion matrix:\n",
      "[[979  35]\n",
      " [ 53 329]]\n",
      "------------------------------\n",
      "Naive Bayes: ROC AUC=0.974\n"
     ]
    },
    {
     "data": {
      "image/png": "[encoded data removed]",
      "text/plain": [
       "<Figure size 432x288 with 1 Axes>"
      ]
     },
     "metadata": {
      "needs_background": "light"
     },
     "output_type": "display_data"
    },
    {
     "name": "stdout",
     "output_type": "stream",
     "text": [
      "-------------------------------------\n"
     ]
    }
   ],
   "source": [
    "predict_data(clf_nb1, X_test_text_no_hashtag_df, y_test)\n",
    "predict_data(clf_nb2, X_test_text_df, y_test)"
   ]
  }
 ],
 "metadata": {
  "kernelspec": {
   "display_name": "Python 3",
   "language": "python",
   "name": "python3"
  },
  "language_info": {
   "codemirror_mode": {
    "name": "ipython",
    "version": 3
   },
   "file_extension": ".py",
   "mimetype": "text/x-python",
   "name": "python",
   "nbconvert_exporter": "python",
   "pygments_lexer": "ipython3",
   "version": "3.8.3"
  }
 },
 "nbformat": 4,
 "nbformat_minor": 4
}
